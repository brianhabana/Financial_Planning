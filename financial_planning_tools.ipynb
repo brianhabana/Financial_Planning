{
 "cells": [
  {
   "cell_type": "markdown",
   "metadata": {},
   "source": [
    "# Financial Planning with APIs and Simulations\n",
    "\n",
    "In this Challenge, you’ll create two financial analysis tools by using a single Jupyter notebook:\n",
    "\n",
    "Part 1: A financial planner for emergencies. The members will be able to use this tool to visualize their current savings. The members can then determine if they have enough reserves for an emergency fund.\n",
    "\n",
    "Part 2: A financial planner for retirement. This tool will forecast the performance of their retirement portfolio in 30 years. To do this, the tool will make an Alpaca API call via the Alpaca SDK to get historical price data for use in Monte Carlo simulations.\n",
    "\n",
    "You’ll use the information from the Monte Carlo simulation to answer questions about the portfolio in your Jupyter notebook.\n",
    "\n"
   ]
  },
  {
   "cell_type": "code",
   "execution_count": 2,
   "metadata": {},
   "outputs": [],
   "source": [
    "# Import the required libraries and dependencies\n",
    "import os\n",
    "import requests\n",
    "import json\n",
    "import pandas as pd\n",
    "from dotenv import load_dotenv\n",
    "import alpaca_trade_api as tradeapi\n",
    "from MCForecastTools import MCSimulation\n",
    "\n",
    "%matplotlib inline"
   ]
  },
  {
   "cell_type": "code",
   "execution_count": 3,
   "metadata": {},
   "outputs": [
    {
     "data": {
      "text/plain": [
       "True"
      ]
     },
     "execution_count": 3,
     "metadata": {},
     "output_type": "execute_result"
    }
   ],
   "source": [
    "# Load the environment variables from the .env file\n",
    "#by calling the load_dotenv function\n",
    "load_dotenv()"
   ]
  },
  {
   "cell_type": "markdown",
   "metadata": {},
   "source": [
    "## Part 1: Create a Financial Planner for Emergencies"
   ]
  },
  {
   "cell_type": "markdown",
   "metadata": {},
   "source": [
    "### Evaluate the Cryptocurrency Wallet by Using the Requests Library\n",
    "\n",
    "In this section, you’ll determine the current value of a member’s cryptocurrency wallet. You’ll collect the current prices for the Bitcoin and Ethereum cryptocurrencies by using the Python Requests library. For the prototype, you’ll assume that the member holds the 1.2 Bitcoins (BTC) and 5.3 Ethereum coins (ETH). To do all this, complete the following steps:\n",
    "\n",
    "1. Create a variable named `monthly_income`, and set its value to `12000`.\n",
    "\n",
    "2. Use the Requests library to get the current price (in US dollars) of Bitcoin (BTC) and Ethereum (ETH) by using the API endpoints that the starter code supplies.\n",
    "\n",
    "3. Navigate the JSON response object to access the current price of each coin, and store each in a variable.\n",
    "\n",
    "    > **Hint** Note the specific identifier for each cryptocurrency in the API JSON response. The Bitcoin identifier is `1`, and the Ethereum identifier is `1027`.\n",
    "\n",
    "4. Calculate the value, in US dollars, of the current amount of each cryptocurrency and of the entire cryptocurrency wallet.\n",
    "\n"
   ]
  },
  {
   "cell_type": "code",
   "execution_count": 4,
   "metadata": {},
   "outputs": [],
   "source": [
    "# The current number of coins for each cryptocurrency asset held in the portfolio.\n",
    "btc_coins = 1.2\n",
    "eth_coins = 5.3"
   ]
  },
  {
   "cell_type": "markdown",
   "metadata": {},
   "source": [
    "#### Step 1: Create a variable named `monthly_income`, and set its value to `12000`."
   ]
  },
  {
   "cell_type": "code",
   "execution_count": 5,
   "metadata": {},
   "outputs": [],
   "source": [
    "# The monthly amount for the member's household income\n",
    "monthly_income = 12000"
   ]
  },
  {
   "cell_type": "markdown",
   "metadata": {},
   "source": [
    "#### Review the endpoint URLs for the API calls to Free Crypto API in order to get the current pricing information for both BTC and ETH."
   ]
  },
  {
   "cell_type": "code",
   "execution_count": 6,
   "metadata": {},
   "outputs": [],
   "source": [
    "# The Free Crypto API Call endpoint URLs for the held cryptocurrency assets\n",
    "btc_url = \"https://api.alternative.me/v2/ticker/Bitcoin/?convert=USD\"\n",
    "eth_url = \"https://api.alternative.me/v2/ticker/Ethereum/?convert=USD\""
   ]
  },
  {
   "cell_type": "markdown",
   "metadata": {},
   "source": [
    "#### Step 2. Use the Requests library to get the current price (in US dollars) of Bitcoin (BTC) and Ethereum (ETH) by using the API endpoints that the starter code supplied."
   ]
  },
  {
   "cell_type": "code",
   "execution_count": 7,
   "metadata": {},
   "outputs": [
    {
     "name": "stdout",
     "output_type": "stream",
     "text": [
      "{\n",
      "    \"data\": {\n",
      "        \"1\": {\n",
      "            \"circulating_supply\": 18697756,\n",
      "            \"id\": 1,\n",
      "            \"last_updated\": 1620014015,\n",
      "            \"max_supply\": 21000000,\n",
      "            \"name\": \"Bitcoin\",\n",
      "            \"quotes\": {\n",
      "                \"USD\": {\n",
      "                    \"market_cap\": 1084176426760,\n",
      "                    \"percent_change_1h\": -0.22532685269328,\n",
      "                    \"percent_change_24h\": 2.1898015010523,\n",
      "                    \"percent_change_7d\": 18.3310997890085,\n",
      "                    \"percentage_change_1h\": -0.22532685269328,\n",
      "                    \"percentage_change_24h\": 2.1898015010523,\n",
      "                    \"percentage_change_7d\": 18.3310997890085,\n",
      "                    \"price\": 57960.0,\n",
      "                    \"volume_24h\": 41426973644\n",
      "                }\n",
      "            },\n",
      "            \"rank\": 1,\n",
      "            \"symbol\": \"BTC\",\n",
      "            \"total_supply\": 18697756,\n",
      "            \"website_slug\": \"bitcoin\"\n",
      "        }\n",
      "    },\n",
      "    \"metadata\": {\n",
      "        \"error\": null,\n",
      "        \"num_cryptocurrencies\": 1308,\n",
      "        \"timestamp\": 1620014015\n",
      "    }\n",
      "}\n"
     ]
    }
   ],
   "source": [
    "# Using the Python requests library, make an API call to access the current price of BTC\n",
    "btc_response = requests.get(btc_url).json()\n",
    "\n",
    "# Use the json.dumps function to review the response data from the API call\n",
    "# Use the indent and sort_keys parameters to make the response object readable\n",
    "print(json.dumps(btc_response, indent=4, sort_keys=True))\n"
   ]
  },
  {
   "cell_type": "code",
   "execution_count": 8,
   "metadata": {},
   "outputs": [
    {
     "name": "stdout",
     "output_type": "stream",
     "text": [
      "{\n",
      "    \"data\": {\n",
      "        \"1027\": {\n",
      "            \"circulating_supply\": 115716754,\n",
      "            \"id\": 1027,\n",
      "            \"last_updated\": 1620014042,\n",
      "            \"max_supply\": 0,\n",
      "            \"name\": \"Ethereum\",\n",
      "            \"quotes\": {\n",
      "                \"USD\": {\n",
      "                    \"market_cap\": 353654977959,\n",
      "                    \"percent_change_1h\": 0.69074097689522,\n",
      "                    \"percent_change_24h\": 4.77414268830807,\n",
      "                    \"percent_change_7d\": 32.4655158646329,\n",
      "                    \"percentage_change_1h\": 0.69074097689522,\n",
      "                    \"percentage_change_24h\": 4.77414268830807,\n",
      "                    \"percentage_change_7d\": 32.4655158646329,\n",
      "                    \"price\": 3056.45,\n",
      "                    \"volume_24h\": 39563286613\n",
      "                }\n",
      "            },\n",
      "            \"rank\": 2,\n",
      "            \"symbol\": \"ETH\",\n",
      "            \"total_supply\": 115716754,\n",
      "            \"website_slug\": \"ethereum\"\n",
      "        }\n",
      "    },\n",
      "    \"metadata\": {\n",
      "        \"error\": null,\n",
      "        \"num_cryptocurrencies\": 1308,\n",
      "        \"timestamp\": 1620014042\n",
      "    }\n",
      "}\n"
     ]
    }
   ],
   "source": [
    "# Using the Python requests library, make an API call to access the current price ETH\n",
    "eth_response = requests.get(eth_url).json()\n",
    "\n",
    "# Use the json.dumps function to review the response data from the API call\n",
    "# Use the indent and sort_keys parameters to make the response object readable\n",
    "print(json.dumps(eth_response, indent=4, sort_keys=True))"
   ]
  },
  {
   "cell_type": "markdown",
   "metadata": {},
   "source": [
    "#### Step 3: Navigate the JSON response object to access the current price of each coin, and store each in a variable."
   ]
  },
  {
   "cell_type": "code",
   "execution_count": 9,
   "metadata": {},
   "outputs": [
    {
     "name": "stdout",
     "output_type": "stream",
     "text": [
      "The price for BTC is  57960.00\n"
     ]
    }
   ],
   "source": [
    "# Navigate the BTC response object to access the current price of BTC\n",
    "btc_price = btc_response['data']['1']['quotes']['USD']['price']\n",
    "\n",
    "# Print the current price of BTC\n",
    "print(f\"The price for BTC is {btc_price: .2f}\")\n"
   ]
  },
  {
   "cell_type": "code",
   "execution_count": 10,
   "metadata": {},
   "outputs": [
    {
     "name": "stdout",
     "output_type": "stream",
     "text": [
      "The price for ETH is  3056.45\n"
     ]
    }
   ],
   "source": [
    "# Navigate the BTC response object to access the current price of ETH\n",
    "eth_price = eth_response['data']['1027']['quotes']['USD']['price']\n",
    "\n",
    "# Print the current price of ETH\n",
    "print(f\"The price for ETH is {eth_price: .2f}\")"
   ]
  },
  {
   "cell_type": "markdown",
   "metadata": {},
   "source": [
    "### Step 4: Calculate the value, in US dollars, of the current amount of each cryptocurrency and of the entire cryptocurrency wallet."
   ]
  },
  {
   "cell_type": "code",
   "execution_count": 11,
   "metadata": {},
   "outputs": [
    {
     "name": "stdout",
     "output_type": "stream",
     "text": [
      "The current BTC balance is  69552.00\n"
     ]
    }
   ],
   "source": [
    "# Compute the current value of the BTC holding \n",
    "btc_value = btc_price * btc_coins\n",
    "\n",
    "# Print current value of your holding in BTC\n",
    "print(f\"The current BTC balance is {btc_value: .2f}\")"
   ]
  },
  {
   "cell_type": "code",
   "execution_count": 12,
   "metadata": {},
   "outputs": [
    {
     "name": "stdout",
     "output_type": "stream",
     "text": [
      "The current ETH balance is  16199.18\n"
     ]
    }
   ],
   "source": [
    "# Compute the current value of the ETH holding \n",
    "eth_value = eth_price * eth_coins\n",
    "\n",
    "# Print current value of your holding in ETH\n",
    "print(f\"The current ETH balance is {eth_value: .2f}\")"
   ]
  },
  {
   "cell_type": "code",
   "execution_count": 13,
   "metadata": {},
   "outputs": [
    {
     "name": "stdout",
     "output_type": "stream",
     "text": [
      "The current cryptocurrency wallet balance is  85751.18\n"
     ]
    }
   ],
   "source": [
    "# Compute the total value of the cryptocurrency wallet\n",
    "# Add the value of the BTC holding to the value of the ETH holding\n",
    "total_crypto_wallet = btc_value + eth_value\n",
    "\n",
    "# Print current cryptocurrency wallet balance\n",
    "print(f\"The current cryptocurrency wallet balance is {total_crypto_wallet: .2f}\")"
   ]
  },
  {
   "cell_type": "markdown",
   "metadata": {},
   "source": [
    "### Evaluate the Stock and Bond Holdings by Using the Alpaca SDK\n",
    "\n",
    "In this section, you’ll determine the current value of a member’s stock and bond holdings. You’ll make an API call to Alpaca via the Alpaca SDK to get the current closing prices of the SPDR S&P 500 ETF Trust (ticker: SPY) and of the iShares Core US Aggregate Bond ETF (ticker: AGG). For the prototype, assume that the member holds 110 shares of SPY, which represents the stock portion of their portfolio, and 200 shares of AGG, which represents the bond portion. To do all this, complete the following steps:\n",
    "\n",
    "1. In the `Starter_Code` folder, create an environment file (`.env`) to store the values of your Alpaca API key and Alpaca secret key.\n",
    "\n",
    "2. Set the variables for the Alpaca API and secret keys. Using the Alpaca SDK, create the Alpaca `tradeapi.REST` object. In this object, include the parameters for the Alpaca API key, the secret key, and the version number.\n",
    "\n",
    "3. Set the following parameters for the Alpaca API call:\n",
    "\n",
    "    - `tickers`: Use the tickers for the member’s stock and bond holdings.\n",
    "\n",
    "    - `timeframe`: Use a time frame of one day.\n",
    "\n",
    "    - `start_date` and `end_date`: Use the same date for these parameters, and format them with the date of the previous weekday (or `2020-08-07`). This is because you want the one closing price for the most-recent trading day.\n",
    "\n",
    "4. Get the current closing prices for `SPY` and `AGG` by using the Alpaca `get_barset` function. Format the response as a Pandas DataFrame by including the `df` property at the end of the `get_barset` function.\n",
    "\n",
    "5. Navigating the Alpaca response DataFrame, select the `SPY` and `AGG` closing prices, and store them as variables.\n",
    "\n",
    "6. Calculate the value, in US dollars, of the current amount of shares in each of the stock and bond portions of the portfolio, and print the results.\n"
   ]
  },
  {
   "cell_type": "markdown",
   "metadata": {},
   "source": [
    "#### Review the total number of shares held in both (SPY) and (AGG)."
   ]
  },
  {
   "cell_type": "code",
   "execution_count": 14,
   "metadata": {},
   "outputs": [],
   "source": [
    "# Current amount of shares held in both the stock (SPY) and bond (AGG) portion of the portfolio.\n",
    "spy_shares = 110\n",
    "agg_shares = 200\n"
   ]
  },
  {
   "cell_type": "markdown",
   "metadata": {},
   "source": [
    "#### Step 1: In the `Starter_Code` folder, create an environment file (`.env`) to store the values of your Alpaca API key and Alpaca secret key."
   ]
  },
  {
   "cell_type": "markdown",
   "metadata": {},
   "source": [
    "#### Step 2: Set the variables for the Alpaca API and secret keys. Using the Alpaca SDK, create the Alpaca `tradeapi.REST` object. In this object, include the parameters for the Alpaca API key, the secret key, and the version number."
   ]
  },
  {
   "cell_type": "code",
   "execution_count": 15,
   "metadata": {},
   "outputs": [
    {
     "data": {
      "text/plain": [
       "str"
      ]
     },
     "metadata": {},
     "output_type": "display_data"
    },
    {
     "data": {
      "text/plain": [
       "str"
      ]
     },
     "metadata": {},
     "output_type": "display_data"
    }
   ],
   "source": [
    "# Set the variables for the Alpaca API and secret keys\n",
    "alpaca_api_key = os.getenv('ALPACA_API_KEY')\n",
    "alpaca_secret_key = os.getenv('ALPACA_SECRET_KEY')\n",
    "\n",
    "# Check the values were imported correctly by evaluating the type of each\n",
    "display(type(alpaca_api_key))\n",
    "display(type(alpaca_secret_key))\n",
    "\n",
    "# Create the Alpaca tradeapi.REST object\n",
    "alpaca = tradeapi.REST(\n",
    "    alpaca_api_key,\n",
    "    alpaca_secret_key,\n",
    "    api_version='v2') "
   ]
  },
  {
   "cell_type": "markdown",
   "metadata": {},
   "source": [
    "#### Step 3: Set the following parameters for the Alpaca API call:\n",
    "\n",
    "- `tickers`: Use the tickers for the member’s stock and bond holdings.\n",
    "\n",
    "- `timeframe`: Use a time frame of one day.\n",
    "\n",
    "- `start_date` and `end_date`: Use the same date for these parameters, and format them with the date of the previous weekday (or `2020-08-07`). This is because you want the one closing price for the most-recent trading day.\n"
   ]
  },
  {
   "cell_type": "code",
   "execution_count": 16,
   "metadata": {},
   "outputs": [],
   "source": [
    "# Set the tickers for both the bond and stock portion of the portfolio\n",
    "tickers = ['SPY', 'AGG']\n",
    "\n",
    "# Set timeframe to 1D \n",
    "timeframe = '1D'\n",
    "\n",
    "# Format current date as ISO format\n",
    "# Set both the start and end date at the date of your prior weekday \n",
    "# This will give you the closing price of the previous trading day\n",
    "# Alternatively you can use a start and end date of 2020-08-07\n",
    "start_date = pd.Timestamp(\"2020-08-07\", tz=\"America/New_York\").isoformat()\n",
    "end_date = pd.Timestamp(\"2020-08-07\", tz=\"America/New_York\").isoformat()\n"
   ]
  },
  {
   "cell_type": "markdown",
   "metadata": {},
   "source": [
    "#### Step 4: Get the current closing prices for `SPY` and `AGG` by using the Alpaca `get_barset` function. Format the response as a Pandas DataFrame by including the `df` property at the end of the `get_barset` function."
   ]
  },
  {
   "cell_type": "code",
   "execution_count": 17,
   "metadata": {},
   "outputs": [
    {
     "data": {
      "text/html": [
       "<div>\n",
       "<style scoped>\n",
       "    .dataframe tbody tr th:only-of-type {\n",
       "        vertical-align: middle;\n",
       "    }\n",
       "\n",
       "    .dataframe tbody tr th {\n",
       "        vertical-align: top;\n",
       "    }\n",
       "\n",
       "    .dataframe thead tr th {\n",
       "        text-align: left;\n",
       "    }\n",
       "\n",
       "    .dataframe thead tr:last-of-type th {\n",
       "        text-align: right;\n",
       "    }\n",
       "</style>\n",
       "<table border=\"1\" class=\"dataframe\">\n",
       "  <thead>\n",
       "    <tr>\n",
       "      <th></th>\n",
       "      <th colspan=\"5\" halign=\"left\">AGG</th>\n",
       "      <th colspan=\"5\" halign=\"left\">SPY</th>\n",
       "    </tr>\n",
       "    <tr>\n",
       "      <th></th>\n",
       "      <th>open</th>\n",
       "      <th>high</th>\n",
       "      <th>low</th>\n",
       "      <th>close</th>\n",
       "      <th>volume</th>\n",
       "      <th>open</th>\n",
       "      <th>high</th>\n",
       "      <th>low</th>\n",
       "      <th>close</th>\n",
       "      <th>volume</th>\n",
       "    </tr>\n",
       "    <tr>\n",
       "      <th>time</th>\n",
       "      <th></th>\n",
       "      <th></th>\n",
       "      <th></th>\n",
       "      <th></th>\n",
       "      <th></th>\n",
       "      <th></th>\n",
       "      <th></th>\n",
       "      <th></th>\n",
       "      <th></th>\n",
       "      <th></th>\n",
       "    </tr>\n",
       "  </thead>\n",
       "  <tbody>\n",
       "    <tr>\n",
       "      <th>2020-08-07 00:00:00-04:00</th>\n",
       "      <td>119.66</td>\n",
       "      <td>119.73</td>\n",
       "      <td>119.395</td>\n",
       "      <td>119.445</td>\n",
       "      <td>8830420</td>\n",
       "      <td>333.28</td>\n",
       "      <td>334.88</td>\n",
       "      <td>332.3</td>\n",
       "      <td>334.55</td>\n",
       "      <td>98710236</td>\n",
       "    </tr>\n",
       "  </tbody>\n",
       "</table>\n",
       "</div>"
      ],
      "text/plain": [
       "                              AGG                                        SPY  \\\n",
       "                             open    high      low    close   volume    open   \n",
       "time                                                                           \n",
       "2020-08-07 00:00:00-04:00  119.66  119.73  119.395  119.445  8830420  333.28   \n",
       "\n",
       "                                                            \n",
       "                             high    low   close    volume  \n",
       "time                                                        \n",
       "2020-08-07 00:00:00-04:00  334.88  332.3  334.55  98710236  "
      ]
     },
     "execution_count": 17,
     "metadata": {},
     "output_type": "execute_result"
    }
   ],
   "source": [
    "# Use the Alpaca get_barset function to get current closing prices the portfolio\n",
    "# Be sure to set the `df` property after the function to format the response object as a DataFrame\n",
    "\n",
    "prices_df = alpaca.get_barset(\n",
    "    tickers,\n",
    "    timeframe,\n",
    "    start = start_date,\n",
    "    end = end_date\n",
    ").df\n",
    "\n",
    "# Review the first 5 rows of the Alpaca DataFrame\n",
    "prices_df.head()"
   ]
  },
  {
   "cell_type": "markdown",
   "metadata": {},
   "source": [
    "#### Step 5: Navigating the Alpaca response DataFrame, select the `SPY` and `AGG` closing prices, and store them as variables."
   ]
  },
  {
   "cell_type": "code",
   "execution_count": 18,
   "metadata": {},
   "outputs": [
    {
     "name": "stdout",
     "output_type": "stream",
     "text": [
      "The closing price of AGG is 119.44\n"
     ]
    }
   ],
   "source": [
    "# Access the closing price for AGG from the Alpaca DataFrame\n",
    "# Converting the value to a floating point number\n",
    "agg_close_price = float(prices_df['AGG']['close'])\n",
    "\n",
    "# Print the AGG closing price\n",
    "print(f\"The closing price of AGG is{agg_close_price: .2f}\")"
   ]
  },
  {
   "cell_type": "code",
   "execution_count": 19,
   "metadata": {},
   "outputs": [
    {
     "name": "stdout",
     "output_type": "stream",
     "text": [
      "The closing price of SPY is 334.55\n"
     ]
    }
   ],
   "source": [
    "# Access the closing price for SPY from the Alpaca DataFrame\n",
    "# Converting the value to a floating point number\n",
    "spy_close_price = float(prices_df['SPY']['close'])\n",
    "\n",
    "# Print the SPY closing price\n",
    "print(f\"The closing price of SPY is{spy_close_price: .2f}\")"
   ]
  },
  {
   "cell_type": "markdown",
   "metadata": {},
   "source": [
    "#### Step 6: Calculate the value, in US dollars, of the current amount of shares in each of the stock and bond portions of the portfolio, and print the results."
   ]
  },
  {
   "cell_type": "code",
   "execution_count": 20,
   "metadata": {},
   "outputs": [
    {
     "name": "stdout",
     "output_type": "stream",
     "text": [
      "The current value of the bond portfolio is 23889.00\n"
     ]
    }
   ],
   "source": [
    "# Calculate the current value of the bond portion of the portfolio\n",
    "agg_value = agg_close_price * agg_shares\n",
    "\n",
    "# Print the current value of the bond portfolio\n",
    "print(f\"The current value of the bond portfolio is{agg_value: .2f}\")"
   ]
  },
  {
   "cell_type": "code",
   "execution_count": 21,
   "metadata": {},
   "outputs": [
    {
     "name": "stdout",
     "output_type": "stream",
     "text": [
      "The current value of the stock portfolio is 36800.50\n"
     ]
    }
   ],
   "source": [
    "# Calculate the current value of the stock portion of the portfolio\n",
    "spy_value = spy_close_price * spy_shares\n",
    "\n",
    "# Print the current value of the stock portfolio\n",
    "print(f\"The current value of the stock portfolio is{spy_value: .2f}\")"
   ]
  },
  {
   "cell_type": "code",
   "execution_count": 22,
   "metadata": {},
   "outputs": [
    {
     "name": "stdout",
     "output_type": "stream",
     "text": [
      "The current balance of the stock and bond porion of the portfolio is 60689.50\n"
     ]
    }
   ],
   "source": [
    "# Calculate the total value of the stock and bond portion of the portfolio\n",
    "total_stocks_bonds = agg_value + spy_value\n",
    "\n",
    "# Print the current balance of the stock and bond portion of the portfolio\n",
    "print(f\"The current balance of the stock and bond porion of the portfolio is{total_stocks_bonds: .2f}\")"
   ]
  },
  {
   "cell_type": "code",
   "execution_count": 23,
   "metadata": {},
   "outputs": [
    {
     "name": "stdout",
     "output_type": "stream",
     "text": [
      "The total value of the member's entire savings portfolio is 146440.68\n"
     ]
    }
   ],
   "source": [
    "# Calculate the total value of the member's entire savings portfolio\n",
    "# Add the value of the cryptocurrency walled to the value of the total stocks and bonds\n",
    "total_portfolio = total_stocks_bonds + total_crypto_wallet\n",
    "\n",
    "# Print total member portfolio\n",
    "print(f\"The total value of the member's entire savings portfolio is{total_portfolio: .2f}\")"
   ]
  },
  {
   "cell_type": "markdown",
   "metadata": {},
   "source": [
    "### Evaluate the Emergency Fund\n",
    "\n",
    "In this section, you’ll use the valuations for the cryptocurrency wallet and for the stock and bond portions of the portfolio to determine if the credit union member has enough savings to build an emergency fund into their financial plan. To do this, complete the following steps:\n",
    "\n",
    "1. Create a Python list named `savings_data` that has two elements. The first element contains the total value of the cryptocurrency wallet. The second element contains the total value of the stock and bond portions of the portfolio.\n",
    "\n",
    "2. Use the `savings_data` list to create a Pandas DataFrame named `savings_df`, and then display this DataFrame. The function to create the DataFrame should take the following three parameters:\n",
    "\n",
    "    - `savings_data`: Use the list that you just created.\n",
    "\n",
    "    - `columns`: Set this parameter equal to a Python list with a single value called `amount`.\n",
    "\n",
    "    - `index`: Set this parameter equal to a Python list with the values of `crypto` and `stock/bond`.\n",
    "\n",
    "3. Use the `savings_df` DataFrame to plot a pie chart that visualizes the composition of the member’s portfolio. The y-axis of the pie chart uses `amount`. Be sure to add a title.\n",
    "\n",
    "4. Using Python, determine if the current portfolio has enough to create an emergency fund as part of the member’s financial plan. Ideally, an emergency fund should equal to three times the member’s monthly income. To do this, implement the following steps:\n",
    "\n",
    "    1. Create a variable named `emergency_fund_value`, and set it equal to three times the value of the member’s `monthly_income` of $12000. (You set this earlier in Part 1).\n",
    "\n",
    "    2. Create a series of three if statements to determine if the member’s total portfolio is large enough to fund the emergency portfolio:\n",
    "\n",
    "        1. If the total portfolio value is greater than the emergency fund value, display a message congratulating the member for having enough money in this fund.\n",
    "\n",
    "        2. Else if the total portfolio value is equal to the emergency fund value, display a message congratulating the member on reaching this important financial goal.\n",
    "\n",
    "        3. Else the total portfolio is less than the emergency fund value, so display a message showing how many dollars away the member is from reaching the goal. (Subtract the total portfolio value from the emergency fund value.)\n"
   ]
  },
  {
   "cell_type": "markdown",
   "metadata": {},
   "source": [
    "#### Step 1: Create a Python list named `savings_data` that has two elements. The first element contains the total value of the cryptocurrency wallet. The second element contains the total value of the stock and bond portions of the portfolio."
   ]
  },
  {
   "cell_type": "code",
   "execution_count": 24,
   "metadata": {},
   "outputs": [
    {
     "data": {
      "text/plain": [
       "[85751.185, 60689.5]"
      ]
     },
     "execution_count": 24,
     "metadata": {},
     "output_type": "execute_result"
    }
   ],
   "source": [
    "# Consolidate financial assets data into a Python list\n",
    "savings_data = [total_crypto_wallet, total_stocks_bonds]\n",
    "\n",
    "\n",
    "# Review the Python list savings_data\n",
    "savings_data"
   ]
  },
  {
   "cell_type": "markdown",
   "metadata": {},
   "source": [
    "#### Step 2: Use the `savings_data` list to create a Pandas DataFrame named `savings_df`, and then display this DataFrame. The function to create the DataFrame should take the following three parameters:\n",
    "\n",
    "- `savings_data`: Use the list that you just created.\n",
    "\n",
    "- `columns`: Set this parameter equal to a Python list with a single value called `amount`.\n",
    "\n",
    "- `index`: Set this parameter equal to a Python list with the values of `crypto` and `stock/bond`.\n"
   ]
  },
  {
   "cell_type": "code",
   "execution_count": 25,
   "metadata": {},
   "outputs": [
    {
     "data": {
      "text/html": [
       "<div>\n",
       "<style scoped>\n",
       "    .dataframe tbody tr th:only-of-type {\n",
       "        vertical-align: middle;\n",
       "    }\n",
       "\n",
       "    .dataframe tbody tr th {\n",
       "        vertical-align: top;\n",
       "    }\n",
       "\n",
       "    .dataframe thead th {\n",
       "        text-align: right;\n",
       "    }\n",
       "</style>\n",
       "<table border=\"1\" class=\"dataframe\">\n",
       "  <thead>\n",
       "    <tr style=\"text-align: right;\">\n",
       "      <th></th>\n",
       "      <th>amount</th>\n",
       "    </tr>\n",
       "  </thead>\n",
       "  <tbody>\n",
       "    <tr>\n",
       "      <th>Crypto</th>\n",
       "      <td>85751.185</td>\n",
       "    </tr>\n",
       "    <tr>\n",
       "      <th>Stock/bond</th>\n",
       "      <td>60689.500</td>\n",
       "    </tr>\n",
       "  </tbody>\n",
       "</table>\n",
       "</div>"
      ],
      "text/plain": [
       "               amount\n",
       "Crypto      85751.185\n",
       "Stock/bond  60689.500"
      ]
     },
     "execution_count": 25,
     "metadata": {},
     "output_type": "execute_result"
    }
   ],
   "source": [
    "# Create a Pandas DataFrame called savings_df     \n",
    "\n",
    "# saving_df = pd.DataFrame(\n",
    "#     {\"Crpyto\": [total_crypto_wallet],\n",
    "#     \"Stocks & Bonds\": [total_stocks_bonds]}\n",
    "# )\n",
    "\n",
    "saving_df = pd.DataFrame(\n",
    "    {'amount': [savings_data[0], savings_data[1]]},\n",
    "    index=['Crypto', 'Stock/bond']\n",
    ")    \n",
    "    \n",
    "# Display the savings_df DataFrame\n",
    "saving_df"
   ]
  },
  {
   "cell_type": "markdown",
   "metadata": {},
   "source": [
    "#### Step 3: Use the `savings_df` DataFrame to plot a pie chart that visualizes the composition of the member’s portfolio. The y-axis of the pie chart uses `amount`. Be sure to add a title."
   ]
  },
  {
   "cell_type": "code",
   "execution_count": 26,
   "metadata": {},
   "outputs": [
    {
     "data": {
      "text/plain": [
       "<AxesSubplot:title={'center':'Portfolio Composition'}, ylabel='amount'>"
      ]
     },
     "execution_count": 26,
     "metadata": {},
     "output_type": "execute_result"
    },
    {
     "data": {
      "image/png": "[encoded data removed]",
      "text/plain": [
       "<Figure size 720x720 with 1 Axes>"
      ]
     },
     "metadata": {},
     "output_type": "display_data"
    }
   ],
   "source": [
    "# Plot the total value of the member's portfolio (crypto and stock/bond) in a pie chart\n",
    "saving_df.plot.pie(y='amount', title='Portfolio Composition', figsize=(10,10))"
   ]
  },
  {
   "cell_type": "markdown",
   "metadata": {},
   "source": [
    "#### Step 4: Using Python, determine if the current portfolio has enough to create an emergency fund as part of the member’s financial plan. Ideally, an emergency fund should equal to three times the member’s monthly income. To do this, implement the following steps:\n",
    "\n",
    "Step 1. Create a variable named `emergency_fund_value`, and set it equal to three times the value of the member’s `monthly_income` of 12000. (You set this earlier in Part 1).\n",
    "\n",
    "Step 2. Create a series of three if statements to determine if the member’s total portfolio is large enough to fund the emergency portfolio:\n",
    "\n",
    "* If the total portfolio value is greater than the emergency fund value, display a message congratulating the member for having enough money in this fund.\n",
    "\n",
    "* Else if the total portfolio value is equal to the emergency fund value, display a message congratulating the member on reaching this important financial goal.\n",
    "\n",
    "* Else the total portfolio is less than the emergency fund value, so display a message showing how many dollars away the member is from reaching the goal. (Subtract the total portfolio value from the emergency fund value.)\n"
   ]
  },
  {
   "cell_type": "markdown",
   "metadata": {},
   "source": [
    "##### Step 4-1: Create a variable named `emergency_fund_value`, and set it equal to three times the value of the member’s `monthly_income` of 12000. (You set this earlier in Part 1)."
   ]
  },
  {
   "cell_type": "code",
   "execution_count": 27,
   "metadata": {},
   "outputs": [],
   "source": [
    "# Create a variable named emergency_fund_value\n",
    "emergency_fund_value = monthly_income * 3"
   ]
  },
  {
   "cell_type": "markdown",
   "metadata": {},
   "source": [
    "##### Step 4-2: Create a series of three if statements to determine if the member’s total portfolio is large enough to fund the emergency portfolio:\n",
    "\n",
    "* If the total portfolio value is greater than the emergency fund value, display a message congratulating the member for having enough money in this fund.\n",
    "\n",
    "* Else if the total portfolio value is equal to the emergency fund value, display a message congratulating the member on reaching this important financial goal.\n",
    "\n",
    "* Else the total portfolio is less than the emergency fund value, so display a message showing how many dollars away the member is from reaching the goal. (Subtract the total portfolio value from the emergency fund value.)"
   ]
  },
  {
   "cell_type": "code",
   "execution_count": 28,
   "metadata": {},
   "outputs": [
    {
     "name": "stdout",
     "output_type": "stream",
     "text": [
      "Congratulations! Your total portfolio value of 146440.68 is greater than 3 months of income, or  36000.00, so you have the necessary emergency funds with a surplus of 110440.68\n"
     ]
    }
   ],
   "source": [
    "# Evaluate the possibility of creating an emergency fund with 3 conditions:\n",
    "if total_portfolio > emergency_fund_value:\n",
    "    print(f\"Congratulations! Your total portfolio value of {total_portfolio:.2f} is greater than 3 months of income, or {emergency_fund_value: .2f}, so you have the necessary emergency funds with a surplus of{total_portfolio - emergency_fund_value: .2f}\")\n",
    "\n",
    "elif total_portfolio == emergency_fund_value:\n",
    "    print(f\"Congratulations! Your total portfolio value of {total_portfolio:.2f} is equal to 3 months of income, or {emergency_fund_value: .2f}, so you have the necessary emergency funds\")\n",
    "\n",
    "else:\n",
    "    (f\"You are ${emergency_fund_value - total_portfolio:.2f} away from achieving 3 months of emergency fund of {emergency_fund_value: .2f}\")\n"
   ]
  },
  {
   "cell_type": "markdown",
   "metadata": {},
   "source": [
    "## Part 2: Create a Financial Planner for Retirement"
   ]
  },
  {
   "cell_type": "markdown",
   "metadata": {},
   "source": [
    "### Create the Monte Carlo Simulation\n",
    "\n",
    "In this section, you’ll use the MCForecastTools library to create a Monte Carlo simulation for the member’s savings portfolio. To do this, complete the following steps:\n",
    "\n",
    "1. Make an API call via the Alpaca SDK to get 10 years of historical closing prices for a traditional 60/40 portfolio split: 60% stocks (SPY) and 40% bonds (AGG).\n",
    "\n",
    "2. Run a Monte Carlo simulation of 500 samples and 30 years for the 60/40 portfolio, and then plot the results.The following image shows the overlay line plot resulting from a simulation with these characteristics. However, because a random number generator is used to run each live Monte Carlo simulation, your image will differ slightly from this exact image:\n",
    "\n",
    "![A screenshot depicts the resulting plot.](Images/5-4-monte-carlo-line-plot.png)\n",
    "\n",
    "3. Plot the probability distribution of the Monte Carlo simulation. Plot the probability distribution of the Monte Carlo simulation. The following image shows the histogram plot resulting from a simulation with these characteristics. However, because a random number generator is used to run each live Monte Carlo simulation, your image will differ slightly from this exact image:\n",
    "\n",
    "![A screenshot depicts the histogram plot.](Images/5-4-monte-carlo-histogram.png)\n",
    "\n",
    "4. Generate the summary statistics for the Monte Carlo simulation.\n",
    "\n"
   ]
  },
  {
   "cell_type": "markdown",
   "metadata": {},
   "source": [
    "#### Step 1: Make an API call via the Alpaca SDK to get 10 years of historical closing prices for a traditional 60/40 portfolio split: 60% stocks (SPY) and 40% bonds (AGG)."
   ]
  },
  {
   "cell_type": "code",
   "execution_count": 159,
   "metadata": {},
   "outputs": [],
   "source": [
    "# Set start and end dates of 10 years back from your current date\n",
    "# Alternatively, you can use an end date of 2020-08-07 and work 10 years back from that date \n",
    "year1_start = pd.Timestamp(\"2010-01-01\", tz=\"America/New_York\").isoformat()\n",
    "year1_end = pd.Timestamp(\"2010-12-31\", tz=\"America/New_York\").isoformat()\n",
    "\n",
    "year2_start = pd.Timestamp(\"2011-01-01\", tz=\"America/New_York\").isoformat()\n",
    "year2_end = pd.Timestamp(\"2012-12-31\", tz=\"America/New_York\").isoformat()\n",
    "\n",
    "year3_start = pd.Timestamp(\"2013-01-01\", tz=\"America/New_York\").isoformat()\n",
    "year3_end = pd.Timestamp(\"2013-12-31\", tz=\"America/New_York\").isoformat()\n",
    "\n",
    "year4_start = pd.Timestamp(\"2014-01-01\", tz=\"America/New_York\").isoformat()\n",
    "year4_end = pd.Timestamp(\"2014-12-31\", tz=\"America/New_York\").isoformat()\n",
    "\n",
    "year5_start = pd.Timestamp(\"2015-01-01\", tz=\"America/New_York\").isoformat()\n",
    "year5_end = pd.Timestamp(\"2015-12-31\", tz=\"America/New_York\").isoformat()\n",
    "\n",
    "year6_start = pd.Timestamp(\"2016-01-01\", tz=\"America/New_York\").isoformat()\n",
    "year6_end = pd.Timestamp(\"2016-12-31\", tz=\"America/New_York\").isoformat()\n",
    "\n",
    "year6_start = pd.Timestamp(\"2017-01-01\", tz=\"America/New_York\").isoformat()\n",
    "year6_end = pd.Timestamp(\"2017-12-31\", tz=\"America/New_York\").isoformat()\n",
    "\n",
    "year7_start = pd.Timestamp(\"2018-01-01\", tz=\"America/New_York\").isoformat()\n",
    "year7_end = pd.Timestamp(\"2018-12-31\", tz=\"America/New_York\").isoformat()\n",
    "\n",
    "year8_start = pd.Timestamp(\"2019-01-01\", tz=\"America/New_York\").isoformat()\n",
    "year8_end = pd.Timestamp(\"2019-12-31\", tz=\"America/New_York\").isoformat()\n",
    "\n",
    "year9_start = pd.Timestamp(\"2020-01-01\", tz=\"America/New_York\").isoformat()\n",
    "year9_end = pd.Timestamp(\"2020-12-31\", tz=\"America/New_York\").isoformat()"
   ]
  },
  {
   "cell_type": "code",
   "execution_count": 161,
   "metadata": {},
   "outputs": [
    {
     "data": {
      "text/html": [
       "<div>\n",
       "<style scoped>\n",
       "    .dataframe tbody tr th:only-of-type {\n",
       "        vertical-align: middle;\n",
       "    }\n",
       "\n",
       "    .dataframe tbody tr th {\n",
       "        vertical-align: top;\n",
       "    }\n",
       "\n",
       "    .dataframe thead tr th {\n",
       "        text-align: left;\n",
       "    }\n",
       "\n",
       "    .dataframe thead tr:last-of-type th {\n",
       "        text-align: right;\n",
       "    }\n",
       "</style>\n",
       "<table border=\"1\" class=\"dataframe\">\n",
       "  <thead>\n",
       "    <tr>\n",
       "      <th></th>\n",
       "      <th colspan=\"5\" halign=\"left\">AGG</th>\n",
       "      <th colspan=\"5\" halign=\"left\">SPY</th>\n",
       "    </tr>\n",
       "    <tr>\n",
       "      <th></th>\n",
       "      <th>open</th>\n",
       "      <th>high</th>\n",
       "      <th>low</th>\n",
       "      <th>close</th>\n",
       "      <th>volume</th>\n",
       "      <th>open</th>\n",
       "      <th>high</th>\n",
       "      <th>low</th>\n",
       "      <th>close</th>\n",
       "      <th>volume</th>\n",
       "    </tr>\n",
       "    <tr>\n",
       "      <th>time</th>\n",
       "      <th></th>\n",
       "      <th></th>\n",
       "      <th></th>\n",
       "      <th></th>\n",
       "      <th></th>\n",
       "      <th></th>\n",
       "      <th></th>\n",
       "      <th></th>\n",
       "      <th></th>\n",
       "      <th></th>\n",
       "    </tr>\n",
       "  </thead>\n",
       "  <tbody>\n",
       "    <tr>\n",
       "      <th>2010-08-11 00:00:00-04:00</th>\n",
       "      <td>107.91</td>\n",
       "      <td>107.9560</td>\n",
       "      <td>107.79</td>\n",
       "      <td>107.91</td>\n",
       "      <td>665686</td>\n",
       "      <td>110.65</td>\n",
       "      <td>110.69</td>\n",
       "      <td>109.12</td>\n",
       "      <td>109.2901</td>\n",
       "      <td>223970698</td>\n",
       "    </tr>\n",
       "    <tr>\n",
       "      <th>2010-08-12 00:00:00-04:00</th>\n",
       "      <td>107.93</td>\n",
       "      <td>107.9800</td>\n",
       "      <td>107.67</td>\n",
       "      <td>107.74</td>\n",
       "      <td>640614</td>\n",
       "      <td>107.64</td>\n",
       "      <td>109.02</td>\n",
       "      <td>107.60</td>\n",
       "      <td>108.6400</td>\n",
       "      <td>190434932</td>\n",
       "    </tr>\n",
       "    <tr>\n",
       "      <th>2010-08-13 00:00:00-04:00</th>\n",
       "      <td>107.77</td>\n",
       "      <td>108.0000</td>\n",
       "      <td>107.67</td>\n",
       "      <td>108.00</td>\n",
       "      <td>563778</td>\n",
       "      <td>108.29</td>\n",
       "      <td>108.96</td>\n",
       "      <td>108.18</td>\n",
       "      <td>108.3000</td>\n",
       "      <td>130664078</td>\n",
       "    </tr>\n",
       "    <tr>\n",
       "      <th>2010-08-16 00:00:00-04:00</th>\n",
       "      <td>108.33</td>\n",
       "      <td>108.3699</td>\n",
       "      <td>108.21</td>\n",
       "      <td>108.30</td>\n",
       "      <td>749598</td>\n",
       "      <td>107.57</td>\n",
       "      <td>108.61</td>\n",
       "      <td>107.18</td>\n",
       "      <td>108.2800</td>\n",
       "      <td>127670449</td>\n",
       "    </tr>\n",
       "    <tr>\n",
       "      <th>2010-08-17 00:00:00-04:00</th>\n",
       "      <td>108.24</td>\n",
       "      <td>108.2600</td>\n",
       "      <td>108.11</td>\n",
       "      <td>108.21</td>\n",
       "      <td>487202</td>\n",
       "      <td>109.18</td>\n",
       "      <td>110.39</td>\n",
       "      <td>108.88</td>\n",
       "      <td>109.6000</td>\n",
       "      <td>149072401</td>\n",
       "    </tr>\n",
       "  </tbody>\n",
       "</table>\n",
       "</div>"
      ],
      "text/plain": [
       "                              AGG                                       SPY  \\\n",
       "                             open      high     low   close  volume    open   \n",
       "time                                                                          \n",
       "2010-08-11 00:00:00-04:00  107.91  107.9560  107.79  107.91  665686  110.65   \n",
       "2010-08-12 00:00:00-04:00  107.93  107.9800  107.67  107.74  640614  107.64   \n",
       "2010-08-13 00:00:00-04:00  107.77  108.0000  107.67  108.00  563778  108.29   \n",
       "2010-08-16 00:00:00-04:00  108.33  108.3699  108.21  108.30  749598  107.57   \n",
       "2010-08-17 00:00:00-04:00  108.24  108.2600  108.11  108.21  487202  109.18   \n",
       "\n",
       "                                                                \n",
       "                             high     low     close     volume  \n",
       "time                                                            \n",
       "2010-08-11 00:00:00-04:00  110.69  109.12  109.2901  223970698  \n",
       "2010-08-12 00:00:00-04:00  109.02  107.60  108.6400  190434932  \n",
       "2010-08-13 00:00:00-04:00  108.96  108.18  108.3000  130664078  \n",
       "2010-08-16 00:00:00-04:00  108.61  107.18  108.2800  127670449  \n",
       "2010-08-17 00:00:00-04:00  110.39  108.88  109.6000  149072401  "
      ]
     },
     "metadata": {},
     "output_type": "display_data"
    },
    {
     "data": {
      "text/html": [
       "<div>\n",
       "<style scoped>\n",
       "    .dataframe tbody tr th:only-of-type {\n",
       "        vertical-align: middle;\n",
       "    }\n",
       "\n",
       "    .dataframe tbody tr th {\n",
       "        vertical-align: top;\n",
       "    }\n",
       "\n",
       "    .dataframe thead tr th {\n",
       "        text-align: left;\n",
       "    }\n",
       "\n",
       "    .dataframe thead tr:last-of-type th {\n",
       "        text-align: right;\n",
       "    }\n",
       "</style>\n",
       "<table border=\"1\" class=\"dataframe\">\n",
       "  <thead>\n",
       "    <tr>\n",
       "      <th></th>\n",
       "      <th colspan=\"5\" halign=\"left\">AGG</th>\n",
       "      <th colspan=\"5\" halign=\"left\">SPY</th>\n",
       "    </tr>\n",
       "    <tr>\n",
       "      <th></th>\n",
       "      <th>open</th>\n",
       "      <th>high</th>\n",
       "      <th>low</th>\n",
       "      <th>close</th>\n",
       "      <th>volume</th>\n",
       "      <th>open</th>\n",
       "      <th>high</th>\n",
       "      <th>low</th>\n",
       "      <th>close</th>\n",
       "      <th>volume</th>\n",
       "    </tr>\n",
       "    <tr>\n",
       "      <th>time</th>\n",
       "      <th></th>\n",
       "      <th></th>\n",
       "      <th></th>\n",
       "      <th></th>\n",
       "      <th></th>\n",
       "      <th></th>\n",
       "      <th></th>\n",
       "      <th></th>\n",
       "      <th></th>\n",
       "      <th></th>\n",
       "    </tr>\n",
       "  </thead>\n",
       "  <tbody>\n",
       "    <tr>\n",
       "      <th>2020-12-24 00:00:00-05:00</th>\n",
       "      <td>117.94</td>\n",
       "      <td>118.046</td>\n",
       "      <td>117.9250</td>\n",
       "      <td>118.01</td>\n",
       "      <td>1722930</td>\n",
       "      <td>368.08</td>\n",
       "      <td>369.01</td>\n",
       "      <td>367.450</td>\n",
       "      <td>368.9899</td>\n",
       "      <td>21047937</td>\n",
       "    </tr>\n",
       "    <tr>\n",
       "      <th>2020-12-28 00:00:00-05:00</th>\n",
       "      <td>117.97</td>\n",
       "      <td>118.045</td>\n",
       "      <td>117.8330</td>\n",
       "      <td>118.01</td>\n",
       "      <td>3503095</td>\n",
       "      <td>371.74</td>\n",
       "      <td>372.59</td>\n",
       "      <td>371.070</td>\n",
       "      <td>372.1400</td>\n",
       "      <td>31589494</td>\n",
       "    </tr>\n",
       "    <tr>\n",
       "      <th>2020-12-29 00:00:00-05:00</th>\n",
       "      <td>118.06</td>\n",
       "      <td>118.060</td>\n",
       "      <td>117.9200</td>\n",
       "      <td>118.05</td>\n",
       "      <td>3255442</td>\n",
       "      <td>373.81</td>\n",
       "      <td>374.00</td>\n",
       "      <td>370.830</td>\n",
       "      <td>371.4800</td>\n",
       "      <td>45214280</td>\n",
       "    </tr>\n",
       "    <tr>\n",
       "      <th>2020-12-30 00:00:00-05:00</th>\n",
       "      <td>118.09</td>\n",
       "      <td>118.120</td>\n",
       "      <td>117.9815</td>\n",
       "      <td>118.10</td>\n",
       "      <td>2593714</td>\n",
       "      <td>372.34</td>\n",
       "      <td>373.10</td>\n",
       "      <td>371.570</td>\n",
       "      <td>371.9300</td>\n",
       "      <td>40295732</td>\n",
       "    </tr>\n",
       "    <tr>\n",
       "      <th>2020-12-31 00:00:00-05:00</th>\n",
       "      <td>118.18</td>\n",
       "      <td>118.240</td>\n",
       "      <td>118.1200</td>\n",
       "      <td>118.20</td>\n",
       "      <td>4325026</td>\n",
       "      <td>371.78</td>\n",
       "      <td>374.66</td>\n",
       "      <td>371.232</td>\n",
       "      <td>373.8500</td>\n",
       "      <td>52720911</td>\n",
       "    </tr>\n",
       "  </tbody>\n",
       "</table>\n",
       "</div>"
      ],
      "text/plain": [
       "                              AGG                                         SPY  \\\n",
       "                             open     high       low   close   volume    open   \n",
       "time                                                                            \n",
       "2020-12-24 00:00:00-05:00  117.94  118.046  117.9250  118.01  1722930  368.08   \n",
       "2020-12-28 00:00:00-05:00  117.97  118.045  117.8330  118.01  3503095  371.74   \n",
       "2020-12-29 00:00:00-05:00  118.06  118.060  117.9200  118.05  3255442  373.81   \n",
       "2020-12-30 00:00:00-05:00  118.09  118.120  117.9815  118.10  2593714  372.34   \n",
       "2020-12-31 00:00:00-05:00  118.18  118.240  118.1200  118.20  4325026  371.78   \n",
       "\n",
       "                                                                \n",
       "                             high      low     close    volume  \n",
       "time                                                            \n",
       "2020-12-24 00:00:00-05:00  369.01  367.450  368.9899  21047937  \n",
       "2020-12-28 00:00:00-05:00  372.59  371.070  372.1400  31589494  \n",
       "2020-12-29 00:00:00-05:00  374.00  370.830  371.4800  45214280  \n",
       "2020-12-30 00:00:00-05:00  373.10  371.570  371.9300  40295732  \n",
       "2020-12-31 00:00:00-05:00  374.66  371.232  373.8500  52720911  "
      ]
     },
     "metadata": {},
     "output_type": "display_data"
    }
   ],
   "source": [
    "# Use the Alpaca get_barset function to make the API call to get the 10 years worth of pricing data\n",
    "# The tickers and timeframe parameters should have been set in Part 1 of this activity \n",
    "# The start and end dates should be updated with the information set above\n",
    "# Remember to add the df property to the end of the call so the response is returned as a DataFrame\n",
    "\n",
    "#create dataframe for year 1 historical data\n",
    "year1_df = alpaca.get_barset(\n",
    "    tickers,\n",
    "    timeframe,\n",
    "    start = year1_start,\n",
    "    end = year1_end, \n",
    ").df\n",
    "\n",
    "#create dataframe for year 2 historical data\n",
    "year2_df = alpaca.get_barset(\n",
    "    tickers,\n",
    "    timeframe,\n",
    "    start = year2_start,\n",
    "    end = year2_end, \n",
    ").df\n",
    "\n",
    "#create dataframe for year 3 historical data\n",
    "year3_df = alpaca.get_barset(\n",
    "    tickers,\n",
    "    timeframe,\n",
    "    start = year3_start,\n",
    "    end = year3_end, \n",
    ").df\n",
    "\n",
    "#create dataframe for year 4 historical data\n",
    "year4_df = alpaca.get_barset(\n",
    "    tickers,\n",
    "    timeframe,\n",
    "    start = year4_start,\n",
    "    end = year4_end, \n",
    ").df\n",
    "\n",
    "#create dataframe for year 5 historical data\n",
    "year5_df = alpaca.get_barset(\n",
    "    tickers,\n",
    "    timeframe,\n",
    "    start = year5_start,\n",
    "    end = year5_end, \n",
    ").df\n",
    "\n",
    "#create dataframe for year 6 historical data\n",
    "year6_df = alpaca.get_barset(\n",
    "    tickers,\n",
    "    timeframe,\n",
    "    start = year6_start,\n",
    "    end = year6_end, \n",
    ").df\n",
    "\n",
    "#create dataframe for year 7 historical data\n",
    "year7_df = alpaca.get_barset(\n",
    "    tickers,\n",
    "    timeframe,\n",
    "    start = year7_start,\n",
    "    end = year7_end, \n",
    ").df\n",
    "\n",
    "#create dataframe for year 8 historical data\n",
    "year8_df = alpaca.get_barset(\n",
    "    tickers,\n",
    "    timeframe,\n",
    "    start = year8_start,\n",
    "    end = year8_end, \n",
    ").df\n",
    "\n",
    "#create dataframe for year 9 historical data\n",
    "year9_df = alpaca.get_barset(\n",
    "    tickers,\n",
    "    timeframe,\n",
    "    start = year9_start,\n",
    "    end = year9_end, \n",
    ").df\n",
    "\n",
    "#create dataframe for year 2 historical data\n",
    "year2_df = alpaca.get_barset(\n",
    "    tickers,\n",
    "    timeframe,\n",
    "    start = year2_start,\n",
    "    end = year2_end, \n",
    ").df\n",
    "\n",
    "#create dataframe for year 2 historical data\n",
    "year2_df = alpaca.get_barset(\n",
    "    tickers,\n",
    "    timeframe,\n",
    "    start = year2_start,\n",
    "    end = year2_end, \n",
    ").df\n",
    "frames = [year1_df, year2_df, year3_df, year4_df, year5_df, year6_df, year7_df, year8_df, year9_df]\n",
    "\n",
    "ten_years_df = pd.concat(frames)\n",
    "\n",
    "# Drop the time component of the date\n",
    "#year1_df.index= year1_df.index.date\n",
    "\n",
    "# Display both the first and last five rows of the DataFrame\n",
    "\n",
    "display(ten_years_df.head())\n",
    "display(ten_years_df.tail())\n"
   ]
  },
  {
   "cell_type": "markdown",
   "metadata": {},
   "source": [
    "#### Step 2: Run a Monte Carlo simulation of 500 samples and 30 years for the 60/40 portfolio, and then plot the results."
   ]
  },
  {
   "cell_type": "code",
   "execution_count": 162,
   "metadata": {},
   "outputs": [
    {
     "data": {
      "text/html": [
       "<div>\n",
       "<style scoped>\n",
       "    .dataframe tbody tr th:only-of-type {\n",
       "        vertical-align: middle;\n",
       "    }\n",
       "\n",
       "    .dataframe tbody tr th {\n",
       "        vertical-align: top;\n",
       "    }\n",
       "\n",
       "    .dataframe thead tr th {\n",
       "        text-align: left;\n",
       "    }\n",
       "\n",
       "    .dataframe thead tr:last-of-type th {\n",
       "        text-align: right;\n",
       "    }\n",
       "</style>\n",
       "<table border=\"1\" class=\"dataframe\">\n",
       "  <thead>\n",
       "    <tr>\n",
       "      <th></th>\n",
       "      <th colspan=\"6\" halign=\"left\">AGG</th>\n",
       "      <th colspan=\"6\" halign=\"left\">SPY</th>\n",
       "    </tr>\n",
       "    <tr>\n",
       "      <th></th>\n",
       "      <th>open</th>\n",
       "      <th>high</th>\n",
       "      <th>low</th>\n",
       "      <th>close</th>\n",
       "      <th>volume</th>\n",
       "      <th>daily_return</th>\n",
       "      <th>open</th>\n",
       "      <th>high</th>\n",
       "      <th>low</th>\n",
       "      <th>close</th>\n",
       "      <th>volume</th>\n",
       "      <th>daily_return</th>\n",
       "    </tr>\n",
       "    <tr>\n",
       "      <th>time</th>\n",
       "      <th></th>\n",
       "      <th></th>\n",
       "      <th></th>\n",
       "      <th></th>\n",
       "      <th></th>\n",
       "      <th></th>\n",
       "      <th></th>\n",
       "      <th></th>\n",
       "      <th></th>\n",
       "      <th></th>\n",
       "      <th></th>\n",
       "      <th></th>\n",
       "    </tr>\n",
       "  </thead>\n",
       "  <tbody>\n",
       "    <tr>\n",
       "      <th>2010-08-11 00:00:00-04:00</th>\n",
       "      <td>107.91</td>\n",
       "      <td>107.9560</td>\n",
       "      <td>107.79</td>\n",
       "      <td>107.91</td>\n",
       "      <td>665686</td>\n",
       "      <td>NaN</td>\n",
       "      <td>110.65</td>\n",
       "      <td>110.69</td>\n",
       "      <td>109.12</td>\n",
       "      <td>109.2901</td>\n",
       "      <td>223970698</td>\n",
       "      <td>NaN</td>\n",
       "    </tr>\n",
       "    <tr>\n",
       "      <th>2010-08-12 00:00:00-04:00</th>\n",
       "      <td>107.93</td>\n",
       "      <td>107.9800</td>\n",
       "      <td>107.67</td>\n",
       "      <td>107.74</td>\n",
       "      <td>640614</td>\n",
       "      <td>-0.001575</td>\n",
       "      <td>107.64</td>\n",
       "      <td>109.02</td>\n",
       "      <td>107.60</td>\n",
       "      <td>108.6400</td>\n",
       "      <td>190434932</td>\n",
       "      <td>-0.005948</td>\n",
       "    </tr>\n",
       "    <tr>\n",
       "      <th>2010-08-13 00:00:00-04:00</th>\n",
       "      <td>107.77</td>\n",
       "      <td>108.0000</td>\n",
       "      <td>107.67</td>\n",
       "      <td>108.00</td>\n",
       "      <td>563778</td>\n",
       "      <td>0.002413</td>\n",
       "      <td>108.29</td>\n",
       "      <td>108.96</td>\n",
       "      <td>108.18</td>\n",
       "      <td>108.3000</td>\n",
       "      <td>130664078</td>\n",
       "      <td>-0.003130</td>\n",
       "    </tr>\n",
       "    <tr>\n",
       "      <th>2010-08-16 00:00:00-04:00</th>\n",
       "      <td>108.33</td>\n",
       "      <td>108.3699</td>\n",
       "      <td>108.21</td>\n",
       "      <td>108.30</td>\n",
       "      <td>749598</td>\n",
       "      <td>0.002778</td>\n",
       "      <td>107.57</td>\n",
       "      <td>108.61</td>\n",
       "      <td>107.18</td>\n",
       "      <td>108.2800</td>\n",
       "      <td>127670449</td>\n",
       "      <td>-0.000185</td>\n",
       "    </tr>\n",
       "    <tr>\n",
       "      <th>2010-08-17 00:00:00-04:00</th>\n",
       "      <td>108.24</td>\n",
       "      <td>108.2600</td>\n",
       "      <td>108.11</td>\n",
       "      <td>108.21</td>\n",
       "      <td>487202</td>\n",
       "      <td>-0.000831</td>\n",
       "      <td>109.18</td>\n",
       "      <td>110.39</td>\n",
       "      <td>108.88</td>\n",
       "      <td>109.6000</td>\n",
       "      <td>149072401</td>\n",
       "      <td>0.012191</td>\n",
       "    </tr>\n",
       "  </tbody>\n",
       "</table>\n",
       "</div>"
      ],
      "text/plain": [
       "                              AGG                                    \\\n",
       "                             open      high     low   close  volume   \n",
       "time                                                                  \n",
       "2010-08-11 00:00:00-04:00  107.91  107.9560  107.79  107.91  665686   \n",
       "2010-08-12 00:00:00-04:00  107.93  107.9800  107.67  107.74  640614   \n",
       "2010-08-13 00:00:00-04:00  107.77  108.0000  107.67  108.00  563778   \n",
       "2010-08-16 00:00:00-04:00  108.33  108.3699  108.21  108.30  749598   \n",
       "2010-08-17 00:00:00-04:00  108.24  108.2600  108.11  108.21  487202   \n",
       "\n",
       "                                           SPY                            \\\n",
       "                          daily_return    open    high     low     close   \n",
       "time                                                                       \n",
       "2010-08-11 00:00:00-04:00          NaN  110.65  110.69  109.12  109.2901   \n",
       "2010-08-12 00:00:00-04:00    -0.001575  107.64  109.02  107.60  108.6400   \n",
       "2010-08-13 00:00:00-04:00     0.002413  108.29  108.96  108.18  108.3000   \n",
       "2010-08-16 00:00:00-04:00     0.002778  107.57  108.61  107.18  108.2800   \n",
       "2010-08-17 00:00:00-04:00    -0.000831  109.18  110.39  108.88  109.6000   \n",
       "\n",
       "                                                   \n",
       "                              volume daily_return  \n",
       "time                                               \n",
       "2010-08-11 00:00:00-04:00  223970698          NaN  \n",
       "2010-08-12 00:00:00-04:00  190434932    -0.005948  \n",
       "2010-08-13 00:00:00-04:00  130664078    -0.003130  \n",
       "2010-08-16 00:00:00-04:00  127670449    -0.000185  \n",
       "2010-08-17 00:00:00-04:00  149072401     0.012191  "
      ]
     },
     "metadata": {},
     "output_type": "display_data"
    },
    {
     "data": {
      "text/html": [
       "<div>\n",
       "<style scoped>\n",
       "    .dataframe tbody tr th:only-of-type {\n",
       "        vertical-align: middle;\n",
       "    }\n",
       "\n",
       "    .dataframe tbody tr th {\n",
       "        vertical-align: top;\n",
       "    }\n",
       "\n",
       "    .dataframe thead tr th {\n",
       "        text-align: left;\n",
       "    }\n",
       "\n",
       "    .dataframe thead tr:last-of-type th {\n",
       "        text-align: right;\n",
       "    }\n",
       "</style>\n",
       "<table border=\"1\" class=\"dataframe\">\n",
       "  <thead>\n",
       "    <tr>\n",
       "      <th></th>\n",
       "      <th colspan=\"6\" halign=\"left\">AGG</th>\n",
       "      <th colspan=\"6\" halign=\"left\">SPY</th>\n",
       "    </tr>\n",
       "    <tr>\n",
       "      <th></th>\n",
       "      <th>open</th>\n",
       "      <th>high</th>\n",
       "      <th>low</th>\n",
       "      <th>close</th>\n",
       "      <th>volume</th>\n",
       "      <th>daily_return</th>\n",
       "      <th>open</th>\n",
       "      <th>high</th>\n",
       "      <th>low</th>\n",
       "      <th>close</th>\n",
       "      <th>volume</th>\n",
       "      <th>daily_return</th>\n",
       "    </tr>\n",
       "    <tr>\n",
       "      <th>time</th>\n",
       "      <th></th>\n",
       "      <th></th>\n",
       "      <th></th>\n",
       "      <th></th>\n",
       "      <th></th>\n",
       "      <th></th>\n",
       "      <th></th>\n",
       "      <th></th>\n",
       "      <th></th>\n",
       "      <th></th>\n",
       "      <th></th>\n",
       "      <th></th>\n",
       "    </tr>\n",
       "  </thead>\n",
       "  <tbody>\n",
       "    <tr>\n",
       "      <th>2020-12-24 00:00:00-05:00</th>\n",
       "      <td>117.94</td>\n",
       "      <td>118.046</td>\n",
       "      <td>117.9250</td>\n",
       "      <td>118.01</td>\n",
       "      <td>1722930</td>\n",
       "      <td>0.001188</td>\n",
       "      <td>368.08</td>\n",
       "      <td>369.01</td>\n",
       "      <td>367.450</td>\n",
       "      <td>368.9899</td>\n",
       "      <td>21047937</td>\n",
       "      <td>0.003972</td>\n",
       "    </tr>\n",
       "    <tr>\n",
       "      <th>2020-12-28 00:00:00-05:00</th>\n",
       "      <td>117.97</td>\n",
       "      <td>118.045</td>\n",
       "      <td>117.8330</td>\n",
       "      <td>118.01</td>\n",
       "      <td>3503095</td>\n",
       "      <td>0.000000</td>\n",
       "      <td>371.74</td>\n",
       "      <td>372.59</td>\n",
       "      <td>371.070</td>\n",
       "      <td>372.1400</td>\n",
       "      <td>31589494</td>\n",
       "      <td>0.008537</td>\n",
       "    </tr>\n",
       "    <tr>\n",
       "      <th>2020-12-29 00:00:00-05:00</th>\n",
       "      <td>118.06</td>\n",
       "      <td>118.060</td>\n",
       "      <td>117.9200</td>\n",
       "      <td>118.05</td>\n",
       "      <td>3255442</td>\n",
       "      <td>0.000339</td>\n",
       "      <td>373.81</td>\n",
       "      <td>374.00</td>\n",
       "      <td>370.830</td>\n",
       "      <td>371.4800</td>\n",
       "      <td>45214280</td>\n",
       "      <td>-0.001774</td>\n",
       "    </tr>\n",
       "    <tr>\n",
       "      <th>2020-12-30 00:00:00-05:00</th>\n",
       "      <td>118.09</td>\n",
       "      <td>118.120</td>\n",
       "      <td>117.9815</td>\n",
       "      <td>118.10</td>\n",
       "      <td>2593714</td>\n",
       "      <td>0.000424</td>\n",
       "      <td>372.34</td>\n",
       "      <td>373.10</td>\n",
       "      <td>371.570</td>\n",
       "      <td>371.9300</td>\n",
       "      <td>40295732</td>\n",
       "      <td>0.001211</td>\n",
       "    </tr>\n",
       "    <tr>\n",
       "      <th>2020-12-31 00:00:00-05:00</th>\n",
       "      <td>118.18</td>\n",
       "      <td>118.240</td>\n",
       "      <td>118.1200</td>\n",
       "      <td>118.20</td>\n",
       "      <td>4325026</td>\n",
       "      <td>0.000847</td>\n",
       "      <td>371.78</td>\n",
       "      <td>374.66</td>\n",
       "      <td>371.232</td>\n",
       "      <td>373.8500</td>\n",
       "      <td>52720911</td>\n",
       "      <td>0.005162</td>\n",
       "    </tr>\n",
       "  </tbody>\n",
       "</table>\n",
       "</div>"
      ],
      "text/plain": [
       "                              AGG                                      \\\n",
       "                             open     high       low   close   volume   \n",
       "time                                                                    \n",
       "2020-12-24 00:00:00-05:00  117.94  118.046  117.9250  118.01  1722930   \n",
       "2020-12-28 00:00:00-05:00  117.97  118.045  117.8330  118.01  3503095   \n",
       "2020-12-29 00:00:00-05:00  118.06  118.060  117.9200  118.05  3255442   \n",
       "2020-12-30 00:00:00-05:00  118.09  118.120  117.9815  118.10  2593714   \n",
       "2020-12-31 00:00:00-05:00  118.18  118.240  118.1200  118.20  4325026   \n",
       "\n",
       "                                           SPY                             \\\n",
       "                          daily_return    open    high      low     close   \n",
       "time                                                                        \n",
       "2020-12-24 00:00:00-05:00     0.001188  368.08  369.01  367.450  368.9899   \n",
       "2020-12-28 00:00:00-05:00     0.000000  371.74  372.59  371.070  372.1400   \n",
       "2020-12-29 00:00:00-05:00     0.000339  373.81  374.00  370.830  371.4800   \n",
       "2020-12-30 00:00:00-05:00     0.000424  372.34  373.10  371.570  371.9300   \n",
       "2020-12-31 00:00:00-05:00     0.000847  371.78  374.66  371.232  373.8500   \n",
       "\n",
       "                                                  \n",
       "                             volume daily_return  \n",
       "time                                              \n",
       "2020-12-24 00:00:00-05:00  21047937     0.003972  \n",
       "2020-12-28 00:00:00-05:00  31589494     0.008537  \n",
       "2020-12-29 00:00:00-05:00  45214280    -0.001774  \n",
       "2020-12-30 00:00:00-05:00  40295732     0.001211  \n",
       "2020-12-31 00:00:00-05:00  52720911     0.005162  "
      ]
     },
     "metadata": {},
     "output_type": "display_data"
    }
   ],
   "source": [
    "# Configure the Monte Carlo simulation to forecast 30 years cumulative returns\n",
    "# The weights should be split 40% to AGG and 60% to SPY.\n",
    "# Run 500 samples.\n",
    "\n",
    "MC_spy_weight = MCSimulation(\n",
    "    portfolio_data = ten_years_df,\n",
    "    weights = [.40, .60],\n",
    "    num_simulation = 500,\n",
    "    num_trading_days = 252*30\n",
    ")\n",
    "\n",
    "# Review the simulation input data\n",
    "display(MC_spy_weight.portfolio_data.head())\n",
    "display(MC_spy_weight.portfolio_data.tail())\n"
   ]
  },
  {
   "cell_type": "code",
   "execution_count": 163,
   "metadata": {},
   "outputs": [
    {
     "name": "stdout",
     "output_type": "stream",
     "text": [
      "Running Monte Carlo simulation number 0.\n",
      "Running Monte Carlo simulation number 10.\n",
      "Running Monte Carlo simulation number 20.\n",
      "Running Monte Carlo simulation number 30.\n",
      "Running Monte Carlo simulation number 40.\n",
      "Running Monte Carlo simulation number 50.\n",
      "Running Monte Carlo simulation number 60.\n",
      "Running Monte Carlo simulation number 70.\n",
      "Running Monte Carlo simulation number 80.\n",
      "Running Monte Carlo simulation number 90.\n",
      "Running Monte Carlo simulation number 100.\n",
      "Running Monte Carlo simulation number 110.\n",
      "Running Monte Carlo simulation number 120.\n",
      "Running Monte Carlo simulation number 130.\n",
      "Running Monte Carlo simulation number 140.\n",
      "Running Monte Carlo simulation number 150.\n",
      "Running Monte Carlo simulation number 160.\n",
      "Running Monte Carlo simulation number 170.\n",
      "Running Monte Carlo simulation number 180.\n",
      "Running Monte Carlo simulation number 190.\n",
      "Running Monte Carlo simulation number 200.\n",
      "Running Monte Carlo simulation number 210.\n",
      "Running Monte Carlo simulation number 220.\n",
      "Running Monte Carlo simulation number 230.\n",
      "Running Monte Carlo simulation number 240.\n",
      "Running Monte Carlo simulation number 250.\n",
      "Running Monte Carlo simulation number 260.\n",
      "Running Monte Carlo simulation number 270.\n",
      "Running Monte Carlo simulation number 280.\n",
      "Running Monte Carlo simulation number 290.\n",
      "Running Monte Carlo simulation number 300.\n",
      "Running Monte Carlo simulation number 310.\n",
      "Running Monte Carlo simulation number 320.\n",
      "Running Monte Carlo simulation number 330.\n",
      "Running Monte Carlo simulation number 340.\n",
      "Running Monte Carlo simulation number 350.\n",
      "Running Monte Carlo simulation number 360.\n",
      "Running Monte Carlo simulation number 370.\n",
      "Running Monte Carlo simulation number 380.\n",
      "Running Monte Carlo simulation number 390.\n",
      "Running Monte Carlo simulation number 400.\n",
      "Running Monte Carlo simulation number 410.\n",
      "Running Monte Carlo simulation number 420.\n",
      "Running Monte Carlo simulation number 430.\n",
      "Running Monte Carlo simulation number 440.\n",
      "Running Monte Carlo simulation number 450.\n",
      "Running Monte Carlo simulation number 460.\n",
      "Running Monte Carlo simulation number 470.\n",
      "Running Monte Carlo simulation number 480.\n",
      "Running Monte Carlo simulation number 490.\n"
     ]
    },
    {
     "data": {
      "text/html": [
       "<div>\n",
       "<style scoped>\n",
       "    .dataframe tbody tr th:only-of-type {\n",
       "        vertical-align: middle;\n",
       "    }\n",
       "\n",
       "    .dataframe tbody tr th {\n",
       "        vertical-align: top;\n",
       "    }\n",
       "\n",
       "    .dataframe thead th {\n",
       "        text-align: right;\n",
       "    }\n",
       "</style>\n",
       "<table border=\"1\" class=\"dataframe\">\n",
       "  <thead>\n",
       "    <tr style=\"text-align: right;\">\n",
       "      <th></th>\n",
       "      <th>0</th>\n",
       "      <th>1</th>\n",
       "      <th>2</th>\n",
       "      <th>3</th>\n",
       "      <th>4</th>\n",
       "      <th>5</th>\n",
       "      <th>6</th>\n",
       "      <th>7</th>\n",
       "      <th>8</th>\n",
       "      <th>9</th>\n",
       "      <th>...</th>\n",
       "      <th>490</th>\n",
       "      <th>491</th>\n",
       "      <th>492</th>\n",
       "      <th>493</th>\n",
       "      <th>494</th>\n",
       "      <th>495</th>\n",
       "      <th>496</th>\n",
       "      <th>497</th>\n",
       "      <th>498</th>\n",
       "      <th>499</th>\n",
       "    </tr>\n",
       "  </thead>\n",
       "  <tbody>\n",
       "    <tr>\n",
       "      <th>0</th>\n",
       "      <td>1.000000</td>\n",
       "      <td>1.000000</td>\n",
       "      <td>1.000000</td>\n",
       "      <td>1.000000</td>\n",
       "      <td>1.000000</td>\n",
       "      <td>1.000000</td>\n",
       "      <td>1.000000</td>\n",
       "      <td>1.000000</td>\n",
       "      <td>1.000000</td>\n",
       "      <td>1.000000</td>\n",
       "      <td>...</td>\n",
       "      <td>1.000000</td>\n",
       "      <td>1.000000</td>\n",
       "      <td>1.000000</td>\n",
       "      <td>1.000000</td>\n",
       "      <td>1.000000</td>\n",
       "      <td>1.000000</td>\n",
       "      <td>1.000000</td>\n",
       "      <td>1.000000</td>\n",
       "      <td>1.000000</td>\n",
       "      <td>1.000000</td>\n",
       "    </tr>\n",
       "    <tr>\n",
       "      <th>1</th>\n",
       "      <td>1.006748</td>\n",
       "      <td>0.999215</td>\n",
       "      <td>1.001998</td>\n",
       "      <td>0.979855</td>\n",
       "      <td>1.010874</td>\n",
       "      <td>1.006188</td>\n",
       "      <td>0.991310</td>\n",
       "      <td>0.999973</td>\n",
       "      <td>1.008636</td>\n",
       "      <td>0.991756</td>\n",
       "      <td>...</td>\n",
       "      <td>1.004689</td>\n",
       "      <td>0.990490</td>\n",
       "      <td>1.005672</td>\n",
       "      <td>1.016580</td>\n",
       "      <td>1.020072</td>\n",
       "      <td>0.993172</td>\n",
       "      <td>0.997195</td>\n",
       "      <td>0.984059</td>\n",
       "      <td>0.998321</td>\n",
       "      <td>1.010380</td>\n",
       "    </tr>\n",
       "    <tr>\n",
       "      <th>2</th>\n",
       "      <td>0.999048</td>\n",
       "      <td>1.012354</td>\n",
       "      <td>1.011990</td>\n",
       "      <td>0.995227</td>\n",
       "      <td>1.020679</td>\n",
       "      <td>0.999332</td>\n",
       "      <td>0.983097</td>\n",
       "      <td>1.021948</td>\n",
       "      <td>0.998681</td>\n",
       "      <td>0.983487</td>\n",
       "      <td>...</td>\n",
       "      <td>1.009010</td>\n",
       "      <td>1.001585</td>\n",
       "      <td>1.002095</td>\n",
       "      <td>1.002996</td>\n",
       "      <td>1.019506</td>\n",
       "      <td>0.993990</td>\n",
       "      <td>0.990062</td>\n",
       "      <td>0.971268</td>\n",
       "      <td>1.002642</td>\n",
       "      <td>1.003938</td>\n",
       "    </tr>\n",
       "    <tr>\n",
       "      <th>3</th>\n",
       "      <td>1.007041</td>\n",
       "      <td>1.017871</td>\n",
       "      <td>1.003968</td>\n",
       "      <td>1.001761</td>\n",
       "      <td>1.022846</td>\n",
       "      <td>0.993723</td>\n",
       "      <td>0.974053</td>\n",
       "      <td>1.025494</td>\n",
       "      <td>1.001618</td>\n",
       "      <td>1.001407</td>\n",
       "      <td>...</td>\n",
       "      <td>1.006159</td>\n",
       "      <td>0.998792</td>\n",
       "      <td>1.007674</td>\n",
       "      <td>1.017112</td>\n",
       "      <td>1.010238</td>\n",
       "      <td>0.988082</td>\n",
       "      <td>0.992139</td>\n",
       "      <td>0.979992</td>\n",
       "      <td>1.009471</td>\n",
       "      <td>0.988835</td>\n",
       "    </tr>\n",
       "    <tr>\n",
       "      <th>4</th>\n",
       "      <td>1.000457</td>\n",
       "      <td>1.016057</td>\n",
       "      <td>0.996557</td>\n",
       "      <td>1.007269</td>\n",
       "      <td>1.030930</td>\n",
       "      <td>1.006245</td>\n",
       "      <td>0.965267</td>\n",
       "      <td>1.032563</td>\n",
       "      <td>1.002510</td>\n",
       "      <td>1.007801</td>\n",
       "      <td>...</td>\n",
       "      <td>0.988173</td>\n",
       "      <td>1.003366</td>\n",
       "      <td>0.997043</td>\n",
       "      <td>1.013876</td>\n",
       "      <td>1.002938</td>\n",
       "      <td>0.998733</td>\n",
       "      <td>0.973671</td>\n",
       "      <td>0.984411</td>\n",
       "      <td>0.999480</td>\n",
       "      <td>0.976622</td>\n",
       "    </tr>\n",
       "    <tr>\n",
       "      <th>...</th>\n",
       "      <td>...</td>\n",
       "      <td>...</td>\n",
       "      <td>...</td>\n",
       "      <td>...</td>\n",
       "      <td>...</td>\n",
       "      <td>...</td>\n",
       "      <td>...</td>\n",
       "      <td>...</td>\n",
       "      <td>...</td>\n",
       "      <td>...</td>\n",
       "      <td>...</td>\n",
       "      <td>...</td>\n",
       "      <td>...</td>\n",
       "      <td>...</td>\n",
       "      <td>...</td>\n",
       "      <td>...</td>\n",
       "      <td>...</td>\n",
       "      <td>...</td>\n",
       "      <td>...</td>\n",
       "      <td>...</td>\n",
       "      <td>...</td>\n",
       "    </tr>\n",
       "    <tr>\n",
       "      <th>7556</th>\n",
       "      <td>1521.130663</td>\n",
       "      <td>3317.483064</td>\n",
       "      <td>1952.635031</td>\n",
       "      <td>315.191797</td>\n",
       "      <td>367.461355</td>\n",
       "      <td>803.747039</td>\n",
       "      <td>983.080026</td>\n",
       "      <td>753.738265</td>\n",
       "      <td>986.971059</td>\n",
       "      <td>512.517109</td>\n",
       "      <td>...</td>\n",
       "      <td>361.594711</td>\n",
       "      <td>2027.028974</td>\n",
       "      <td>541.948836</td>\n",
       "      <td>1174.277414</td>\n",
       "      <td>1760.951173</td>\n",
       "      <td>626.535129</td>\n",
       "      <td>670.455086</td>\n",
       "      <td>1086.426276</td>\n",
       "      <td>2049.588667</td>\n",
       "      <td>1272.574838</td>\n",
       "    </tr>\n",
       "    <tr>\n",
       "      <th>7557</th>\n",
       "      <td>1529.721221</td>\n",
       "      <td>3280.243999</td>\n",
       "      <td>1955.892282</td>\n",
       "      <td>313.849621</td>\n",
       "      <td>367.139221</td>\n",
       "      <td>812.001540</td>\n",
       "      <td>981.010495</td>\n",
       "      <td>758.891601</td>\n",
       "      <td>979.386893</td>\n",
       "      <td>529.075417</td>\n",
       "      <td>...</td>\n",
       "      <td>358.722925</td>\n",
       "      <td>2068.722256</td>\n",
       "      <td>544.489118</td>\n",
       "      <td>1181.073230</td>\n",
       "      <td>1736.537578</td>\n",
       "      <td>626.947325</td>\n",
       "      <td>674.471067</td>\n",
       "      <td>1087.203467</td>\n",
       "      <td>2061.076906</td>\n",
       "      <td>1283.776973</td>\n",
       "    </tr>\n",
       "    <tr>\n",
       "      <th>7558</th>\n",
       "      <td>1533.271568</td>\n",
       "      <td>3253.587419</td>\n",
       "      <td>1953.824352</td>\n",
       "      <td>319.170468</td>\n",
       "      <td>362.976123</td>\n",
       "      <td>822.930655</td>\n",
       "      <td>976.499738</td>\n",
       "      <td>762.729689</td>\n",
       "      <td>993.560833</td>\n",
       "      <td>534.209681</td>\n",
       "      <td>...</td>\n",
       "      <td>358.929727</td>\n",
       "      <td>2014.792768</td>\n",
       "      <td>555.543511</td>\n",
       "      <td>1175.032930</td>\n",
       "      <td>1712.179991</td>\n",
       "      <td>630.613157</td>\n",
       "      <td>676.475613</td>\n",
       "      <td>1096.416556</td>\n",
       "      <td>2061.279146</td>\n",
       "      <td>1277.944786</td>\n",
       "    </tr>\n",
       "    <tr>\n",
       "      <th>7559</th>\n",
       "      <td>1540.536692</td>\n",
       "      <td>3286.599978</td>\n",
       "      <td>1977.022054</td>\n",
       "      <td>322.124475</td>\n",
       "      <td>370.057247</td>\n",
       "      <td>811.603925</td>\n",
       "      <td>968.249916</td>\n",
       "      <td>749.589511</td>\n",
       "      <td>999.947931</td>\n",
       "      <td>523.305939</td>\n",
       "      <td>...</td>\n",
       "      <td>360.994831</td>\n",
       "      <td>2021.383439</td>\n",
       "      <td>545.119847</td>\n",
       "      <td>1179.443622</td>\n",
       "      <td>1715.055012</td>\n",
       "      <td>632.923374</td>\n",
       "      <td>681.179332</td>\n",
       "      <td>1114.360385</td>\n",
       "      <td>2063.397003</td>\n",
       "      <td>1278.469777</td>\n",
       "    </tr>\n",
       "    <tr>\n",
       "      <th>7560</th>\n",
       "      <td>1564.331693</td>\n",
       "      <td>3299.535504</td>\n",
       "      <td>1958.254809</td>\n",
       "      <td>318.932776</td>\n",
       "      <td>373.013853</td>\n",
       "      <td>812.206391</td>\n",
       "      <td>967.521185</td>\n",
       "      <td>752.302696</td>\n",
       "      <td>997.083736</td>\n",
       "      <td>520.651195</td>\n",
       "      <td>...</td>\n",
       "      <td>358.429491</td>\n",
       "      <td>2024.487814</td>\n",
       "      <td>542.357721</td>\n",
       "      <td>1187.185518</td>\n",
       "      <td>1731.998980</td>\n",
       "      <td>632.813809</td>\n",
       "      <td>688.559483</td>\n",
       "      <td>1119.305463</td>\n",
       "      <td>2079.441650</td>\n",
       "      <td>1279.706091</td>\n",
       "    </tr>\n",
       "  </tbody>\n",
       "</table>\n",
       "<p>7561 rows × 500 columns</p>\n",
       "</div>"
      ],
      "text/plain": [
       "              0            1            2           3           4    \\\n",
       "0        1.000000     1.000000     1.000000    1.000000    1.000000   \n",
       "1        1.006748     0.999215     1.001998    0.979855    1.010874   \n",
       "2        0.999048     1.012354     1.011990    0.995227    1.020679   \n",
       "3        1.007041     1.017871     1.003968    1.001761    1.022846   \n",
       "4        1.000457     1.016057     0.996557    1.007269    1.030930   \n",
       "...           ...          ...          ...         ...         ...   \n",
       "7556  1521.130663  3317.483064  1952.635031  315.191797  367.461355   \n",
       "7557  1529.721221  3280.243999  1955.892282  313.849621  367.139221   \n",
       "7558  1533.271568  3253.587419  1953.824352  319.170468  362.976123   \n",
       "7559  1540.536692  3286.599978  1977.022054  322.124475  370.057247   \n",
       "7560  1564.331693  3299.535504  1958.254809  318.932776  373.013853   \n",
       "\n",
       "             5           6           7           8           9    ...  \\\n",
       "0       1.000000    1.000000    1.000000    1.000000    1.000000  ...   \n",
       "1       1.006188    0.991310    0.999973    1.008636    0.991756  ...   \n",
       "2       0.999332    0.983097    1.021948    0.998681    0.983487  ...   \n",
       "3       0.993723    0.974053    1.025494    1.001618    1.001407  ...   \n",
       "4       1.006245    0.965267    1.032563    1.002510    1.007801  ...   \n",
       "...          ...         ...         ...         ...         ...  ...   \n",
       "7556  803.747039  983.080026  753.738265  986.971059  512.517109  ...   \n",
       "7557  812.001540  981.010495  758.891601  979.386893  529.075417  ...   \n",
       "7558  822.930655  976.499738  762.729689  993.560833  534.209681  ...   \n",
       "7559  811.603925  968.249916  749.589511  999.947931  523.305939  ...   \n",
       "7560  812.206391  967.521185  752.302696  997.083736  520.651195  ...   \n",
       "\n",
       "             490          491         492          493          494  \\\n",
       "0       1.000000     1.000000    1.000000     1.000000     1.000000   \n",
       "1       1.004689     0.990490    1.005672     1.016580     1.020072   \n",
       "2       1.009010     1.001585    1.002095     1.002996     1.019506   \n",
       "3       1.006159     0.998792    1.007674     1.017112     1.010238   \n",
       "4       0.988173     1.003366    0.997043     1.013876     1.002938   \n",
       "...          ...          ...         ...          ...          ...   \n",
       "7556  361.594711  2027.028974  541.948836  1174.277414  1760.951173   \n",
       "7557  358.722925  2068.722256  544.489118  1181.073230  1736.537578   \n",
       "7558  358.929727  2014.792768  555.543511  1175.032930  1712.179991   \n",
       "7559  360.994831  2021.383439  545.119847  1179.443622  1715.055012   \n",
       "7560  358.429491  2024.487814  542.357721  1187.185518  1731.998980   \n",
       "\n",
       "             495         496          497          498          499  \n",
       "0       1.000000    1.000000     1.000000     1.000000     1.000000  \n",
       "1       0.993172    0.997195     0.984059     0.998321     1.010380  \n",
       "2       0.993990    0.990062     0.971268     1.002642     1.003938  \n",
       "3       0.988082    0.992139     0.979992     1.009471     0.988835  \n",
       "4       0.998733    0.973671     0.984411     0.999480     0.976622  \n",
       "...          ...         ...          ...          ...          ...  \n",
       "7556  626.535129  670.455086  1086.426276  2049.588667  1272.574838  \n",
       "7557  626.947325  674.471067  1087.203467  2061.076906  1283.776973  \n",
       "7558  630.613157  676.475613  1096.416556  2061.279146  1277.944786  \n",
       "7559  632.923374  681.179332  1114.360385  2063.397003  1278.469777  \n",
       "7560  632.813809  688.559483  1119.305463  2079.441650  1279.706091  \n",
       "\n",
       "[7561 rows x 500 columns]"
      ]
     },
     "execution_count": 163,
     "metadata": {},
     "output_type": "execute_result"
    }
   ],
   "source": [
    "# Run the Monte Carlo simulation to forecast 30 years cumulative returns\n",
    "MC_spy_weight.calc_cumulative_return()"
   ]
  },
  {
   "cell_type": "code",
   "execution_count": 164,
   "metadata": {},
   "outputs": [
    {
     "data": {
      "image/png": "[encoded data removed]",
      "text/plain": [
       "<Figure size 432x288 with 1 Axes>"
      ]
     },
     "metadata": {
      "needs_background": "light"
     },
     "output_type": "display_data"
    }
   ],
   "source": [
    "# Visualize the 30-year Monte Carlo simulation by creating an\n",
    "# overlay line plot\n",
    "MC_spy_weight_line_plot = MC_spy_weight.plot_simulation()"
   ]
  },
  {
   "cell_type": "markdown",
   "metadata": {},
   "source": [
    "#### Step 3: Plot the probability distribution of the Monte Carlo simulation."
   ]
  },
  {
   "cell_type": "code",
   "execution_count": 165,
   "metadata": {},
   "outputs": [
    {
     "data": {
      "image/png": "[encoded data removed]",
      "text/plain": [
       "<Figure size 432x288 with 1 Axes>"
      ]
     },
     "metadata": {
      "needs_background": "light"
     },
     "output_type": "display_data"
    }
   ],
   "source": [
    "# Visualize the probability distribution of the 30-year Monte Carlo simulation \n",
    "# by plotting a histogram\n",
    "MC_spy_weight_distribution_plot = MC_spy_weight.plot_distribution()"
   ]
  },
  {
   "cell_type": "markdown",
   "metadata": {},
   "source": [
    "#### Step 4: Generate the summary statistics for the Monte Carlo simulation."
   ]
  },
  {
   "cell_type": "code",
   "execution_count": 166,
   "metadata": {},
   "outputs": [
    {
     "name": "stdout",
     "output_type": "stream",
     "text": [
      "count            500.000000\n",
      "mean            1123.185020\n",
      "std             1073.043573\n",
      "min               90.359252\n",
      "25%              520.411422\n",
      "50%              789.434635\n",
      "75%             1339.945936\n",
      "max             9132.022900\n",
      "95% CI Lower     192.326842\n",
      "95% CI Upper    4008.642744\n",
      "Name: 7560, dtype: float64\n"
     ]
    }
   ],
   "source": [
    "# Generate summary statistics from the 30-year Monte Carlo simulation results\n",
    "# Save the results as a variable\n",
    "MC_spy_weight_table = MC_spy_weight.summarize_cumulative_return()\n",
    "\n",
    "# Review the 30-year Monte Carlo summary statistics\n",
    "print(MC_spy_weight_table)"
   ]
  },
  {
   "cell_type": "markdown",
   "metadata": {},
   "source": [
    "### Analyze the Retirement Portfolio Forecasts\n",
    "\n",
    "Using the current value of only the stock and bond portion of the member's portfolio and the summary statistics that you generated from the Monte Carlo simulation, answer the following question in your Jupyter notebook:\n",
    "\n",
    "-  What are the lower and upper bounds for the expected value of the portfolio with a 95% confidence interval?\n"
   ]
  },
  {
   "cell_type": "code",
   "execution_count": 167,
   "metadata": {},
   "outputs": [
    {
     "name": "stdout",
     "output_type": "stream",
     "text": [
      "The current balance of the stock portio is 36800.50 and the current value of the bond portion is 23889.00\n"
     ]
    }
   ],
   "source": [
    "# Print the current balance of the stock and bond portion of the members portfolio\n",
    "print(f\"The current balance of the stock portio is {spy_value:.2f} and the current value of the bond portion is {agg_value:.2f}\")"
   ]
  },
  {
   "cell_type": "code",
   "execution_count": 168,
   "metadata": {},
   "outputs": [
    {
     "name": "stdout",
     "output_type": "stream",
     "text": [
      "There is a 95% chance that an initial investment of 60689.5 in the portfolio with a 60% weight in stocks over the next thirty years will end within in the range of $ 11672219.90 and $ 243282523.81.\n"
     ]
    }
   ],
   "source": [
    "# Use the lower and upper `95%` confidence intervals to calculate the range of the possible outcomes for the current stock/bond portfolio\n",
    "ci_lower_thirty_cumulative_return = round(MC_spy_weight_table[8]*total_stocks_bonds, 2)\n",
    "ci_upper_thirty_cumulative_return = round(MC_spy_weight_table[9]*total_stocks_bonds, 2)\n",
    "\n",
    "# Print the result of your calculations\n",
    "print(f\"There is a 95% chance that an initial investment of {total_stocks_bonds} in the portfolio\"\n",
    "      f\" with a 60% weight in stocks over the next thirty years will end within in the range of\"\n",
    "      f\" ${ci_lower_thirty_cumulative_return: .2f} and ${ci_upper_thirty_cumulative_return: .2f}.\")"
   ]
  },
  {
   "cell_type": "markdown",
   "metadata": {},
   "source": [
    "### Forecast Cumulative Returns in 10 Years\n",
    "\n",
    "The CTO of the credit union is impressed with your work on these planning tools but wonders if 30 years is a long time to wait until retirement. So, your next task is to adjust the retirement portfolio and run a new Monte Carlo simulation to find out if the changes will allow members to retire earlier.\n",
    "\n",
    "For this new Monte Carlo simulation, do the following: \n",
    "\n",
    "- Forecast the cumulative returns for 10 years from now. Because of the shortened investment horizon (30 years to 10 years), the portfolio needs to invest more heavily in the riskier asset&mdash;that is, stock&mdash;to help accumulate wealth for retirement. \n",
    "\n",
    "- Adjust the weights of the retirement portfolio so that the composition for the Monte Carlo simulation consists of 20% bonds and 80% stocks. \n",
    "\n",
    "- Run the simulation over 500 samples, and use the same data that the API call to Alpaca generated.\n",
    "\n",
    "- Based on the new Monte Carlo simulation, answer the following questions in your Jupyter notebook:\n",
    "\n",
    "    - Using the current value of only the stock and bond portion of the member's portfolio and the summary statistics that you generated from the new Monte Carlo simulation, what are the lower and upper bounds for the expected value of the portfolio (with the new weights) with a 95% confidence interval?\n",
    "\n",
    "    - Will weighting the portfolio more heavily toward stocks allow the credit union members to retire after only 10 years?\n"
   ]
  },
  {
   "cell_type": "code",
   "execution_count": 169,
   "metadata": {},
   "outputs": [
    {
     "data": {
      "text/html": [
       "<div>\n",
       "<style scoped>\n",
       "    .dataframe tbody tr th:only-of-type {\n",
       "        vertical-align: middle;\n",
       "    }\n",
       "\n",
       "    .dataframe tbody tr th {\n",
       "        vertical-align: top;\n",
       "    }\n",
       "\n",
       "    .dataframe thead tr th {\n",
       "        text-align: left;\n",
       "    }\n",
       "\n",
       "    .dataframe thead tr:last-of-type th {\n",
       "        text-align: right;\n",
       "    }\n",
       "</style>\n",
       "<table border=\"1\" class=\"dataframe\">\n",
       "  <thead>\n",
       "    <tr>\n",
       "      <th></th>\n",
       "      <th colspan=\"6\" halign=\"left\">AGG</th>\n",
       "      <th colspan=\"6\" halign=\"left\">SPY</th>\n",
       "    </tr>\n",
       "    <tr>\n",
       "      <th></th>\n",
       "      <th>open</th>\n",
       "      <th>high</th>\n",
       "      <th>low</th>\n",
       "      <th>close</th>\n",
       "      <th>volume</th>\n",
       "      <th>daily_return</th>\n",
       "      <th>open</th>\n",
       "      <th>high</th>\n",
       "      <th>low</th>\n",
       "      <th>close</th>\n",
       "      <th>volume</th>\n",
       "      <th>daily_return</th>\n",
       "    </tr>\n",
       "    <tr>\n",
       "      <th>time</th>\n",
       "      <th></th>\n",
       "      <th></th>\n",
       "      <th></th>\n",
       "      <th></th>\n",
       "      <th></th>\n",
       "      <th></th>\n",
       "      <th></th>\n",
       "      <th></th>\n",
       "      <th></th>\n",
       "      <th></th>\n",
       "      <th></th>\n",
       "      <th></th>\n",
       "    </tr>\n",
       "  </thead>\n",
       "  <tbody>\n",
       "    <tr>\n",
       "      <th>2010-08-11 00:00:00-04:00</th>\n",
       "      <td>107.91</td>\n",
       "      <td>107.9560</td>\n",
       "      <td>107.79</td>\n",
       "      <td>107.91</td>\n",
       "      <td>665686</td>\n",
       "      <td>NaN</td>\n",
       "      <td>110.65</td>\n",
       "      <td>110.69</td>\n",
       "      <td>109.12</td>\n",
       "      <td>109.2901</td>\n",
       "      <td>223970698</td>\n",
       "      <td>NaN</td>\n",
       "    </tr>\n",
       "    <tr>\n",
       "      <th>2010-08-12 00:00:00-04:00</th>\n",
       "      <td>107.93</td>\n",
       "      <td>107.9800</td>\n",
       "      <td>107.67</td>\n",
       "      <td>107.74</td>\n",
       "      <td>640614</td>\n",
       "      <td>-0.001575</td>\n",
       "      <td>107.64</td>\n",
       "      <td>109.02</td>\n",
       "      <td>107.60</td>\n",
       "      <td>108.6400</td>\n",
       "      <td>190434932</td>\n",
       "      <td>-0.005948</td>\n",
       "    </tr>\n",
       "    <tr>\n",
       "      <th>2010-08-13 00:00:00-04:00</th>\n",
       "      <td>107.77</td>\n",
       "      <td>108.0000</td>\n",
       "      <td>107.67</td>\n",
       "      <td>108.00</td>\n",
       "      <td>563778</td>\n",
       "      <td>0.002413</td>\n",
       "      <td>108.29</td>\n",
       "      <td>108.96</td>\n",
       "      <td>108.18</td>\n",
       "      <td>108.3000</td>\n",
       "      <td>130664078</td>\n",
       "      <td>-0.003130</td>\n",
       "    </tr>\n",
       "    <tr>\n",
       "      <th>2010-08-16 00:00:00-04:00</th>\n",
       "      <td>108.33</td>\n",
       "      <td>108.3699</td>\n",
       "      <td>108.21</td>\n",
       "      <td>108.30</td>\n",
       "      <td>749598</td>\n",
       "      <td>0.002778</td>\n",
       "      <td>107.57</td>\n",
       "      <td>108.61</td>\n",
       "      <td>107.18</td>\n",
       "      <td>108.2800</td>\n",
       "      <td>127670449</td>\n",
       "      <td>-0.000185</td>\n",
       "    </tr>\n",
       "    <tr>\n",
       "      <th>2010-08-17 00:00:00-04:00</th>\n",
       "      <td>108.24</td>\n",
       "      <td>108.2600</td>\n",
       "      <td>108.11</td>\n",
       "      <td>108.21</td>\n",
       "      <td>487202</td>\n",
       "      <td>-0.000831</td>\n",
       "      <td>109.18</td>\n",
       "      <td>110.39</td>\n",
       "      <td>108.88</td>\n",
       "      <td>109.6000</td>\n",
       "      <td>149072401</td>\n",
       "      <td>0.012191</td>\n",
       "    </tr>\n",
       "  </tbody>\n",
       "</table>\n",
       "</div>"
      ],
      "text/plain": [
       "                              AGG                                    \\\n",
       "                             open      high     low   close  volume   \n",
       "time                                                                  \n",
       "2010-08-11 00:00:00-04:00  107.91  107.9560  107.79  107.91  665686   \n",
       "2010-08-12 00:00:00-04:00  107.93  107.9800  107.67  107.74  640614   \n",
       "2010-08-13 00:00:00-04:00  107.77  108.0000  107.67  108.00  563778   \n",
       "2010-08-16 00:00:00-04:00  108.33  108.3699  108.21  108.30  749598   \n",
       "2010-08-17 00:00:00-04:00  108.24  108.2600  108.11  108.21  487202   \n",
       "\n",
       "                                           SPY                            \\\n",
       "                          daily_return    open    high     low     close   \n",
       "time                                                                       \n",
       "2010-08-11 00:00:00-04:00          NaN  110.65  110.69  109.12  109.2901   \n",
       "2010-08-12 00:00:00-04:00    -0.001575  107.64  109.02  107.60  108.6400   \n",
       "2010-08-13 00:00:00-04:00     0.002413  108.29  108.96  108.18  108.3000   \n",
       "2010-08-16 00:00:00-04:00     0.002778  107.57  108.61  107.18  108.2800   \n",
       "2010-08-17 00:00:00-04:00    -0.000831  109.18  110.39  108.88  109.6000   \n",
       "\n",
       "                                                   \n",
       "                              volume daily_return  \n",
       "time                                               \n",
       "2010-08-11 00:00:00-04:00  223970698          NaN  \n",
       "2010-08-12 00:00:00-04:00  190434932    -0.005948  \n",
       "2010-08-13 00:00:00-04:00  130664078    -0.003130  \n",
       "2010-08-16 00:00:00-04:00  127670449    -0.000185  \n",
       "2010-08-17 00:00:00-04:00  149072401     0.012191  "
      ]
     },
     "metadata": {},
     "output_type": "display_data"
    },
    {
     "data": {
      "text/html": [
       "<div>\n",
       "<style scoped>\n",
       "    .dataframe tbody tr th:only-of-type {\n",
       "        vertical-align: middle;\n",
       "    }\n",
       "\n",
       "    .dataframe tbody tr th {\n",
       "        vertical-align: top;\n",
       "    }\n",
       "\n",
       "    .dataframe thead tr th {\n",
       "        text-align: left;\n",
       "    }\n",
       "\n",
       "    .dataframe thead tr:last-of-type th {\n",
       "        text-align: right;\n",
       "    }\n",
       "</style>\n",
       "<table border=\"1\" class=\"dataframe\">\n",
       "  <thead>\n",
       "    <tr>\n",
       "      <th></th>\n",
       "      <th colspan=\"6\" halign=\"left\">AGG</th>\n",
       "      <th colspan=\"6\" halign=\"left\">SPY</th>\n",
       "    </tr>\n",
       "    <tr>\n",
       "      <th></th>\n",
       "      <th>open</th>\n",
       "      <th>high</th>\n",
       "      <th>low</th>\n",
       "      <th>close</th>\n",
       "      <th>volume</th>\n",
       "      <th>daily_return</th>\n",
       "      <th>open</th>\n",
       "      <th>high</th>\n",
       "      <th>low</th>\n",
       "      <th>close</th>\n",
       "      <th>volume</th>\n",
       "      <th>daily_return</th>\n",
       "    </tr>\n",
       "    <tr>\n",
       "      <th>time</th>\n",
       "      <th></th>\n",
       "      <th></th>\n",
       "      <th></th>\n",
       "      <th></th>\n",
       "      <th></th>\n",
       "      <th></th>\n",
       "      <th></th>\n",
       "      <th></th>\n",
       "      <th></th>\n",
       "      <th></th>\n",
       "      <th></th>\n",
       "      <th></th>\n",
       "    </tr>\n",
       "  </thead>\n",
       "  <tbody>\n",
       "    <tr>\n",
       "      <th>2020-12-24 00:00:00-05:00</th>\n",
       "      <td>117.94</td>\n",
       "      <td>118.046</td>\n",
       "      <td>117.9250</td>\n",
       "      <td>118.01</td>\n",
       "      <td>1722930</td>\n",
       "      <td>0.001188</td>\n",
       "      <td>368.08</td>\n",
       "      <td>369.01</td>\n",
       "      <td>367.450</td>\n",
       "      <td>368.9899</td>\n",
       "      <td>21047937</td>\n",
       "      <td>0.003972</td>\n",
       "    </tr>\n",
       "    <tr>\n",
       "      <th>2020-12-28 00:00:00-05:00</th>\n",
       "      <td>117.97</td>\n",
       "      <td>118.045</td>\n",
       "      <td>117.8330</td>\n",
       "      <td>118.01</td>\n",
       "      <td>3503095</td>\n",
       "      <td>0.000000</td>\n",
       "      <td>371.74</td>\n",
       "      <td>372.59</td>\n",
       "      <td>371.070</td>\n",
       "      <td>372.1400</td>\n",
       "      <td>31589494</td>\n",
       "      <td>0.008537</td>\n",
       "    </tr>\n",
       "    <tr>\n",
       "      <th>2020-12-29 00:00:00-05:00</th>\n",
       "      <td>118.06</td>\n",
       "      <td>118.060</td>\n",
       "      <td>117.9200</td>\n",
       "      <td>118.05</td>\n",
       "      <td>3255442</td>\n",
       "      <td>0.000339</td>\n",
       "      <td>373.81</td>\n",
       "      <td>374.00</td>\n",
       "      <td>370.830</td>\n",
       "      <td>371.4800</td>\n",
       "      <td>45214280</td>\n",
       "      <td>-0.001774</td>\n",
       "    </tr>\n",
       "    <tr>\n",
       "      <th>2020-12-30 00:00:00-05:00</th>\n",
       "      <td>118.09</td>\n",
       "      <td>118.120</td>\n",
       "      <td>117.9815</td>\n",
       "      <td>118.10</td>\n",
       "      <td>2593714</td>\n",
       "      <td>0.000424</td>\n",
       "      <td>372.34</td>\n",
       "      <td>373.10</td>\n",
       "      <td>371.570</td>\n",
       "      <td>371.9300</td>\n",
       "      <td>40295732</td>\n",
       "      <td>0.001211</td>\n",
       "    </tr>\n",
       "    <tr>\n",
       "      <th>2020-12-31 00:00:00-05:00</th>\n",
       "      <td>118.18</td>\n",
       "      <td>118.240</td>\n",
       "      <td>118.1200</td>\n",
       "      <td>118.20</td>\n",
       "      <td>4325026</td>\n",
       "      <td>0.000847</td>\n",
       "      <td>371.78</td>\n",
       "      <td>374.66</td>\n",
       "      <td>371.232</td>\n",
       "      <td>373.8500</td>\n",
       "      <td>52720911</td>\n",
       "      <td>0.005162</td>\n",
       "    </tr>\n",
       "  </tbody>\n",
       "</table>\n",
       "</div>"
      ],
      "text/plain": [
       "                              AGG                                      \\\n",
       "                             open     high       low   close   volume   \n",
       "time                                                                    \n",
       "2020-12-24 00:00:00-05:00  117.94  118.046  117.9250  118.01  1722930   \n",
       "2020-12-28 00:00:00-05:00  117.97  118.045  117.8330  118.01  3503095   \n",
       "2020-12-29 00:00:00-05:00  118.06  118.060  117.9200  118.05  3255442   \n",
       "2020-12-30 00:00:00-05:00  118.09  118.120  117.9815  118.10  2593714   \n",
       "2020-12-31 00:00:00-05:00  118.18  118.240  118.1200  118.20  4325026   \n",
       "\n",
       "                                           SPY                             \\\n",
       "                          daily_return    open    high      low     close   \n",
       "time                                                                        \n",
       "2020-12-24 00:00:00-05:00     0.001188  368.08  369.01  367.450  368.9899   \n",
       "2020-12-28 00:00:00-05:00     0.000000  371.74  372.59  371.070  372.1400   \n",
       "2020-12-29 00:00:00-05:00     0.000339  373.81  374.00  370.830  371.4800   \n",
       "2020-12-30 00:00:00-05:00     0.000424  372.34  373.10  371.570  371.9300   \n",
       "2020-12-31 00:00:00-05:00     0.000847  371.78  374.66  371.232  373.8500   \n",
       "\n",
       "                                                  \n",
       "                             volume daily_return  \n",
       "time                                              \n",
       "2020-12-24 00:00:00-05:00  21047937     0.003972  \n",
       "2020-12-28 00:00:00-05:00  31589494     0.008537  \n",
       "2020-12-29 00:00:00-05:00  45214280    -0.001774  \n",
       "2020-12-30 00:00:00-05:00  40295732     0.001211  \n",
       "2020-12-31 00:00:00-05:00  52720911     0.005162  "
      ]
     },
     "metadata": {},
     "output_type": "display_data"
    }
   ],
   "source": [
    "# Configure a Monte Carlo simulation to forecast 10 years cumulative returns\n",
    "# The weights should be split 20% to AGG and 80% to SPY.\n",
    "# Run 500 samples.\n",
    "\n",
    "MC_spy_weight_80 = MCSimulation(\n",
    "    portfolio_data = ten_years_df,\n",
    "    weights = [.20, .80],\n",
    "    num_simulation = 500,\n",
    "    num_trading_days = 252*10\n",
    ")\n",
    "\n",
    "# Review the simulation input data\n",
    "display(MC_spy_weight_80.portfolio_data.head())\n",
    "display(MC_spy_weight_80.portfolio_data.tail())\n"
   ]
  },
  {
   "cell_type": "code",
   "execution_count": 170,
   "metadata": {},
   "outputs": [
    {
     "name": "stdout",
     "output_type": "stream",
     "text": [
      "Running Monte Carlo simulation number 0.\n",
      "Running Monte Carlo simulation number 10.\n",
      "Running Monte Carlo simulation number 20.\n",
      "Running Monte Carlo simulation number 30.\n",
      "Running Monte Carlo simulation number 40.\n",
      "Running Monte Carlo simulation number 50.\n",
      "Running Monte Carlo simulation number 60.\n",
      "Running Monte Carlo simulation number 70.\n",
      "Running Monte Carlo simulation number 80.\n",
      "Running Monte Carlo simulation number 90.\n",
      "Running Monte Carlo simulation number 100.\n",
      "Running Monte Carlo simulation number 110.\n",
      "Running Monte Carlo simulation number 120.\n",
      "Running Monte Carlo simulation number 130.\n",
      "Running Monte Carlo simulation number 140.\n",
      "Running Monte Carlo simulation number 150.\n",
      "Running Monte Carlo simulation number 160.\n",
      "Running Monte Carlo simulation number 170.\n",
      "Running Monte Carlo simulation number 180.\n",
      "Running Monte Carlo simulation number 190.\n",
      "Running Monte Carlo simulation number 200.\n",
      "Running Monte Carlo simulation number 210.\n",
      "Running Monte Carlo simulation number 220.\n",
      "Running Monte Carlo simulation number 230.\n",
      "Running Monte Carlo simulation number 240.\n",
      "Running Monte Carlo simulation number 250.\n",
      "Running Monte Carlo simulation number 260.\n",
      "Running Monte Carlo simulation number 270.\n",
      "Running Monte Carlo simulation number 280.\n",
      "Running Monte Carlo simulation number 290.\n",
      "Running Monte Carlo simulation number 300.\n",
      "Running Monte Carlo simulation number 310.\n",
      "Running Monte Carlo simulation number 320.\n",
      "Running Monte Carlo simulation number 330.\n",
      "Running Monte Carlo simulation number 340.\n",
      "Running Monte Carlo simulation number 350.\n",
      "Running Monte Carlo simulation number 360.\n",
      "Running Monte Carlo simulation number 370.\n",
      "Running Monte Carlo simulation number 380.\n",
      "Running Monte Carlo simulation number 390.\n",
      "Running Monte Carlo simulation number 400.\n",
      "Running Monte Carlo simulation number 410.\n",
      "Running Monte Carlo simulation number 420.\n",
      "Running Monte Carlo simulation number 430.\n",
      "Running Monte Carlo simulation number 440.\n",
      "Running Monte Carlo simulation number 450.\n",
      "Running Monte Carlo simulation number 460.\n",
      "Running Monte Carlo simulation number 470.\n",
      "Running Monte Carlo simulation number 480.\n",
      "Running Monte Carlo simulation number 490.\n"
     ]
    },
    {
     "data": {
      "text/plain": [
       "count           500.000000\n",
       "mean             20.110622\n",
       "std              13.259593\n",
       "min               3.214460\n",
       "25%              11.048931\n",
       "50%              16.605217\n",
       "75%              25.530312\n",
       "max              95.256244\n",
       "95% CI Lower      4.795716\n",
       "95% CI Upper     51.546281\n",
       "Name: 2520, dtype: float64"
      ]
     },
     "execution_count": 170,
     "metadata": {},
     "output_type": "execute_result"
    }
   ],
   "source": [
    "# Run the Monte Carlo simulation to forecast 10 years cumulative returns\n",
    "MC_spy_weight_80.summarize_cumulative_return()\n",
    "\n"
   ]
  },
  {
   "cell_type": "code",
   "execution_count": 171,
   "metadata": {},
   "outputs": [
    {
     "data": {
      "image/png": "[encoded data removed]",
      "text/plain": [
       "<Figure size 432x288 with 1 Axes>"
      ]
     },
     "metadata": {
      "needs_background": "light"
     },
     "output_type": "display_data"
    }
   ],
   "source": [
    "# Visualize the 10-year Monte Carlo simulation by creating an\n",
    "# overlay line plot\n",
    "MC_spy_weight_80_line_plot = MC_spy_weight_80.plot_simulation()"
   ]
  },
  {
   "cell_type": "code",
   "execution_count": 172,
   "metadata": {},
   "outputs": [
    {
     "data": {
      "image/png": "[encoded data removed]",
      "text/plain": [
       "<Figure size 432x288 with 1 Axes>"
      ]
     },
     "metadata": {
      "needs_background": "light"
     },
     "output_type": "display_data"
    }
   ],
   "source": [
    "# Visualize the probability distribution of the 10-year Monte Carlo simulation \n",
    "# by plotting a histogram\n",
    "MC_spy_weight_80_distribution_plot = MC_spy_weight_80.plot_distribution()\n"
   ]
  },
  {
   "cell_type": "code",
   "execution_count": 173,
   "metadata": {},
   "outputs": [
    {
     "name": "stdout",
     "output_type": "stream",
     "text": [
      "count           500.000000\n",
      "mean             20.110622\n",
      "std              13.259593\n",
      "min               3.214460\n",
      "25%              11.048931\n",
      "50%              16.605217\n",
      "75%              25.530312\n",
      "max              95.256244\n",
      "95% CI Lower      4.795716\n",
      "95% CI Upper     51.546281\n",
      "Name: 2520, dtype: float64\n"
     ]
    }
   ],
   "source": [
    "# Generate summary statistics from the 10-year Monte Carlo simulation results\n",
    "# Save the results as a variable\n",
    "MC_spy_weight_table_80 = MC_spy_weight_80.summarize_cumulative_return()\n",
    "\n",
    "# Review the 10-year Monte Carlo summary statistics\n",
    "print(MC_spy_weight_table_80)"
   ]
  },
  {
   "cell_type": "markdown",
   "metadata": {},
   "source": [
    "### Answer the following questions:"
   ]
  },
  {
   "cell_type": "markdown",
   "metadata": {},
   "source": [
    "#### Question: Using the current value of only the stock and bond portion of the member's portfolio and the summary statistics that you generated from the new Monte Carlo simulation, what are the lower and upper bounds for the expected value of the portfolio (with the new weights) with a 95% confidence interval?"
   ]
  },
  {
   "cell_type": "code",
   "execution_count": 174,
   "metadata": {},
   "outputs": [
    {
     "name": "stdout",
     "output_type": "stream",
     "text": [
      "The current balance of the stock portio is 36800.50 and the current value of the bond portion is 23889.00\n"
     ]
    }
   ],
   "source": [
    "# Print the current balance of the stock and bond portion of the members portfolio\n",
    "print(f\"The current balance of the stock portio is {spy_value:.2f} and the current value of the bond portion is {agg_value:.2f}\")"
   ]
  },
  {
   "cell_type": "code",
   "execution_count": 175,
   "metadata": {},
   "outputs": [
    {
     "name": "stdout",
     "output_type": "stream",
     "text": [
      "There is a 95% chance that an initial investment of 60689.5 in the portfolio with a 80% weight in stocks over the next ten years will end within in the range of $ 291050.00 and $ 3128318.00.\n"
     ]
    }
   ],
   "source": [
    "# Use the lower and upper `95%` confidence intervals to calculate the range of the possible outcomes for the current stock/bond portfolio\n",
    "ci_lower_thirty_cumulative_return = round(MC_spy_weight_table_80[8]*total_stocks_bonds)\n",
    "ci_upper_thirty_cumulative_return = round(MC_spy_weight_table_80[9]*total_stocks_bonds)\n",
    "\n",
    "# Print the result of your calculations\n",
    "print(f\"There is a 95% chance that an initial investment of {total_stocks_bonds} in the portfolio\"\n",
    "      f\" with a 80% weight in stocks over the next ten years will end within in the range of\"\n",
    "      f\" ${ci_lower_thirty_cumulative_return: .2f} and ${ci_upper_thirty_cumulative_return: .2f}.\")"
   ]
  },
  {
   "cell_type": "markdown",
   "metadata": {},
   "source": [
    "#### Question: Will weighting the portfolio more heavily to stocks allow the credit union members to retire after only 10 years?"
   ]
  },
  {
   "cell_type": "raw",
   "metadata": {},
   "source": [
    "**Answer** # no because the lower cumulative return is only $291,050 which is not enough to retire in 10 years"
   ]
  },
  {
   "cell_type": "code",
   "execution_count": null,
   "metadata": {},
   "outputs": [],
   "source": []
  }
 ],
 "metadata": {
  "kernelspec": {
   "display_name": "dev",
   "language": "python",
   "name": "dev"
  },
  "language_info": {
   "codemirror_mode": {
    "name": "ipython",
    "version": 3
   },
   "file_extension": ".py",
   "mimetype": "text/x-python",
   "name": "python",
   "nbconvert_exporter": "python",
   "pygments_lexer": "ipython3",
   "version": "3.7.9"
  }
 },
 "nbformat": 4,
 "nbformat_minor": 4
}
